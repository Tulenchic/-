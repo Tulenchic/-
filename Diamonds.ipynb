{
 "cells": [
  {
   "cell_type": "code",
   "execution_count": 1,
   "id": "3ef3b221-ad06-43fc-b677-c8958681c7c2",
   "metadata": {},
   "outputs": [],
   "source": [
    "import pandas as pd\n",
    "import seaborn as sns\n",
    "df = pd.read_csv('diamonds.csv')"
   ]
  },
  {
   "cell_type": "code",
   "execution_count": 2,
   "id": "232150aa-f575-4787-88b1-282b1e6a42d7",
   "metadata": {},
   "outputs": [
    {
     "data": {
      "text/plain": [
       "53940"
      ]
     },
     "execution_count": 2,
     "metadata": {},
     "output_type": "execute_result"
    }
   ],
   "source": [
    "#количество строк\n",
    "df.shape[0]"
   ]
  },
  {
   "cell_type": "code",
   "execution_count": 3,
   "id": "6518e46a-ac52-4d65-a6ae-1174369802aa",
   "metadata": {},
   "outputs": [
    {
     "data": {
      "text/plain": [
       "11"
      ]
     },
     "execution_count": 3,
     "metadata": {},
     "output_type": "execute_result"
    }
   ],
   "source": [
    "#количество столбцов\n",
    "df.shape[1]"
   ]
  },
  {
   "cell_type": "code",
   "execution_count": 4,
   "id": "bd03dfdd-8c43-41de-92b8-e2c8bc55813a",
   "metadata": {},
   "outputs": [
    {
     "name": "stdout",
     "output_type": "stream",
     "text": [
      "<class 'pandas.core.frame.DataFrame'>\n",
      "RangeIndex: 53940 entries, 0 to 53939\n",
      "Data columns (total 11 columns):\n",
      " #   Column      Non-Null Count  Dtype  \n",
      "---  ------      --------------  -----  \n",
      " 0   Unnamed: 0  53940 non-null  int64  \n",
      " 1   carat       53940 non-null  float64\n",
      " 2   cut         53940 non-null  object \n",
      " 3   color       53940 non-null  object \n",
      " 4   clarity     53940 non-null  object \n",
      " 5   depth       53940 non-null  float64\n",
      " 6   table       53940 non-null  float64\n",
      " 7   price       53940 non-null  int64  \n",
      " 8   x           53940 non-null  float64\n",
      " 9   y           53940 non-null  float64\n",
      " 10  z           53940 non-null  float64\n",
      "dtypes: float64(6), int64(2), object(3)\n",
      "memory usage: 4.5+ MB\n"
     ]
    }
   ],
   "source": [
    "df.info()"
   ]
  },
  {
   "cell_type": "code",
   "execution_count": 5,
   "id": "0415fef1-09f4-4a92-ab29-ec855857b78f",
   "metadata": {},
   "outputs": [],
   "source": [
    "#1. unnamed (0, None): индекс, не является каким-либо типом данных\n",
    "\n",
    "#2. carat: карат, вес бриллианта; числовой непрерывный\n",
    "\n",
    "#3. cut: качество огранки; категориальный порядковый\n",
    "\n",
    "#4. color: цвет бриллианта, от J (худший) и до D (лучший); категориальный порядковый\n",
    "\n",
    "#5. clarity: показатель того, насколько чист бриллиант (наличие внутренних и внешних дефектов); категориальный порядковый \n",
    "#  - I1 – включения видны невооружённым глазом (наихудшая чистота),   \n",
    "#  - SI2, SI1 – небольшие включения,   \n",
    "#  - VS2, VS1 – очень небольшие включения,   \n",
    "#  - VVS2, VVS1 – очень-очень небольшие включения,   \n",
    "#  - IF – идеальная чистота, дефектов нет (лучший уровень)\n",
    "\n",
    "#6. depth: глубина, общая глубина в процентах = z / среднее значение (x, y) = 2 * z / (x + y); числовой непрерывный\n",
    "\n",
    "#7. table: ширина верхней части бриллианта относительно самой широкой части; числовой непрерывный\n",
    "\n",
    "#8. price: цена в долларах США; числовой дискретный\n",
    "\n",
    "#9. x: длина в мм; числовой непрерывный\n",
    "\n",
    "#10. y: ширина в мм; числовой непрерывный\n",
    "\n",
    "#11. z: высота в мм; числовой непрерывный"
   ]
  },
  {
   "cell_type": "code",
   "execution_count": 6,
   "id": "88029e48-4bd5-4576-8d89-62cfaf4a95a9",
   "metadata": {},
   "outputs": [
    {
     "data": {
      "text/plain": [
       "Unnamed: 0    0\n",
       "carat         0\n",
       "cut           0\n",
       "color         0\n",
       "clarity       0\n",
       "depth         0\n",
       "table         0\n",
       "price         0\n",
       "x             0\n",
       "y             0\n",
       "z             0\n",
       "dtype: int64"
      ]
     },
     "execution_count": 6,
     "metadata": {},
     "output_type": "execute_result"
    }
   ],
   "source": [
    "df.isna().sum()\n",
    "# пропусков в данных нет"
   ]
  },
  {
   "cell_type": "code",
   "execution_count": 7,
   "id": "baca38fe-ac89-49f9-98b9-72839efe014c",
   "metadata": {},
   "outputs": [
    {
     "data": {
      "text/plain": [
       "0        SI2\n",
       "1        SI1\n",
       "2        VS1\n",
       "3        VS2\n",
       "4        SI2\n",
       "        ... \n",
       "53935    SI1\n",
       "53936    SI1\n",
       "53937    SI1\n",
       "53938    SI2\n",
       "53939    SI2\n",
       "Name: clarity, Length: 53940, dtype: object"
      ]
     },
     "execution_count": 7,
     "metadata": {},
     "output_type": "execute_result"
    }
   ],
   "source": [
    "#В случае если в датасете были бы пропуски, то мы использовали бы следующие способы.\n",
    "# 1) Если бы пропуски в колонке составляли больше 40% данных, то мы бы удалили колонку\n",
    "# 2) Если бы пропуски составляли меньше 40% данных, то мы бы удалили строчки с пропусками \n",
    "#    в случае большого количества данных, иначе - мы бы их заменили следующим образом:\n",
    "#Для категориальных (в примере - порядковых):\n",
    "df['clarity'].fillna(df['clarity'].mode()[0])"
   ]
  },
  {
   "cell_type": "code",
   "execution_count": 8,
   "id": "56056f0f-c714-43ef-a989-91e323fd38a1",
   "metadata": {},
   "outputs": [
    {
     "data": {
      "text/plain": [
       "0         326\n",
       "1         326\n",
       "2         327\n",
       "3         334\n",
       "4         335\n",
       "         ... \n",
       "53935    2757\n",
       "53936    2757\n",
       "53937    2757\n",
       "53938    2757\n",
       "53939    2757\n",
       "Name: price, Length: 53940, dtype: int64"
      ]
     },
     "execution_count": 8,
     "metadata": {},
     "output_type": "execute_result"
    }
   ],
   "source": [
    "#Для числовых (в примере - дискретных):\n",
    "df['price'].fillna(df['price'].median())"
   ]
  },
  {
   "cell_type": "code",
   "execution_count": 9,
   "id": "4a6a1770-f4ff-4019-93d0-f70b2248a30c",
   "metadata": {},
   "outputs": [],
   "source": [
    "#Удаление колонок, если больше 40% пропусков:\n",
    "# df.drop('название_колонки', axis = 1, inplace = True)"
   ]
  },
  {
   "cell_type": "code",
   "execution_count": 10,
   "id": "ae09a528-70ac-440f-9d22-1fc92fceb4f9",
   "metadata": {},
   "outputs": [],
   "source": [
    "#Удаление строчек, если меньше 40% пропусков:\n",
    "# df.dropna(inplace = True)"
   ]
  },
  {
   "cell_type": "code",
   "execution_count": 11,
   "id": "299c4f44-3840-44f9-b1e8-1f4d21e57080",
   "metadata": {},
   "outputs": [
    {
     "data": {
      "text/plain": [
       "0"
      ]
     },
     "execution_count": 11,
     "metadata": {},
     "output_type": "execute_result"
    }
   ],
   "source": [
    "df.shape[0] - df.drop_duplicates().shape[0]\n",
    "#В данных нет полных дубликатов"
   ]
  },
  {
   "cell_type": "code",
   "execution_count": 12,
   "id": "fae4ce8e-0ab6-4127-8f67-deeff60fcddf",
   "metadata": {},
   "outputs": [],
   "source": [
    "# Ниже представлен способ для обнаружения выбросов с помощью ящика с усами\n",
    "# Метод, который используется в данном случае, - это метод 1,5IQR.\n",
    "# Также есть способы 1std, 2std, 3std"
   ]
  },
  {
   "cell_type": "code",
   "execution_count": 13,
   "id": "03d3b7a2-1c9d-4c47-97c7-c4516b40d848",
   "metadata": {},
   "outputs": [
    {
     "data": {
      "image/png": "[encoded data removed]",
      "text/plain": [
       "<Figure size 640x480 with 1 Axes>"
      ]
     },
     "metadata": {},
     "output_type": "display_data"
    }
   ],
   "source": [
    "df['carat'].plot(kind = 'box', vert = False);\n",
    "#выбросы есть"
   ]
  },
  {
   "cell_type": "code",
   "execution_count": 14,
   "id": "cf0784cf-30a6-4de0-aaa5-a813812113da",
   "metadata": {},
   "outputs": [
    {
     "data": {
      "image/png": "[encoded data removed]",
      "text/plain": [
       "<Figure size 640x480 with 1 Axes>"
      ]
     },
     "metadata": {},
     "output_type": "display_data"
    }
   ],
   "source": [
    "df['depth'].plot(kind = 'box', vert = False);\n",
    "#выбросы есть"
   ]
  },
  {
   "cell_type": "code",
   "execution_count": 15,
   "id": "4f54d35a-16f4-4088-a37e-c1f2e3713526",
   "metadata": {},
   "outputs": [
    {
     "data": {
      "image/png": "[encoded data removed]",
      "text/plain": [
       "<Figure size 640x480 with 1 Axes>"
      ]
     },
     "metadata": {},
     "output_type": "display_data"
    }
   ],
   "source": [
    "df['table'].plot(kind = 'box', vert = False);\n",
    "#выбросы есть"
   ]
  },
  {
   "cell_type": "code",
   "execution_count": 16,
   "id": "50fb70ad-7428-4caa-8b81-26023e2f9381",
   "metadata": {},
   "outputs": [
    {
     "data": {
      "image/png": "[encoded data removed]",
      "text/plain": [
       "<Figure size 640x480 with 1 Axes>"
      ]
     },
     "metadata": {},
     "output_type": "display_data"
    }
   ],
   "source": [
    "df['price'].plot(kind = 'box', vert = False);\n",
    "#выбросы есть"
   ]
  },
  {
   "cell_type": "code",
   "execution_count": 17,
   "id": "4d31e463-c57b-4433-92dc-fc55e67253c5",
   "metadata": {},
   "outputs": [
    {
     "data": {
      "image/png": "[encoded data removed]",
      "text/plain": [
       "<Figure size 640x480 with 1 Axes>"
      ]
     },
     "metadata": {},
     "output_type": "display_data"
    }
   ],
   "source": [
    "df['x'].plot(kind = 'box', vert = False);\n",
    "#выбросы есть"
   ]
  },
  {
   "cell_type": "code",
   "execution_count": 18,
   "id": "b2d55409-a1b8-488e-be33-31b913caf92a",
   "metadata": {},
   "outputs": [
    {
     "data": {
      "image/png": "[encoded data removed]",
      "text/plain": [
       "<Figure size 640x480 with 1 Axes>"
      ]
     },
     "metadata": {},
     "output_type": "display_data"
    }
   ],
   "source": [
    "df['y'].plot(kind = 'box', vert = False);\n",
    "#выбросы есть"
   ]
  },
  {
   "cell_type": "code",
   "execution_count": 19,
   "id": "62284760-4820-453d-a27f-8301d71c4122",
   "metadata": {},
   "outputs": [
    {
     "data": {
      "text/plain": [
       "<Axes: >"
      ]
     },
     "execution_count": 19,
     "metadata": {},
     "output_type": "execute_result"
    },
    {
     "data": {
      "image/png": "[encoded data removed]",
      "text/plain": [
       "<Figure size 640x480 with 1 Axes>"
      ]
     },
     "metadata": {},
     "output_type": "display_data"
    }
   ],
   "source": [
    "df['z'].plot(kind = 'box', vert = False)\n",
    "#выбросы есть"
   ]
  },
  {
   "cell_type": "code",
   "execution_count": 20,
   "id": "4d586a2e-4337-4a26-8e27-27c2498ca943",
   "metadata": {},
   "outputs": [
    {
     "data": {
      "text/plain": [
       "1206"
      ]
     },
     "execution_count": 20,
     "metadata": {},
     "output_type": "execute_result"
    }
   ],
   "source": [
    "# На примере столбца 'price' посчитаем выбросы методом 3std\n",
    "price_mean = df['price'].mean()\n",
    "price_std = df['price'].std()\n",
    "df[(df['price'] < price_mean - 3 * price_std) | (df['price'] > price_mean + 3 * price_std)].shape[0]"
   ]
  },
  {
   "cell_type": "code",
   "execution_count": 21,
   "id": "897ab71f-8397-42f4-935f-b66dba5ea877",
   "metadata": {},
   "outputs": [
    {
     "data": {
      "text/plain": [
       "6346"
      ]
     },
     "execution_count": 21,
     "metadata": {},
     "output_type": "execute_result"
    }
   ],
   "source": [
    "# На примере столбца 'price' посчитаем выбросы методом 1,5IQR\n",
    "price_median = df['price'].median()\n",
    "price_iqr = df['price'].quantile(0.75) - df['price'].quantile(0.25)\n",
    "df[(df['price'] < price_median - 1.5 * price_iqr) | (df['price'] > price_median + 1.5 * price_iqr)].shape[0]"
   ]
  },
  {
   "cell_type": "code",
   "execution_count": 22,
   "id": "23b881b5-fe85-4465-96c1-55b846b9b883",
   "metadata": {},
   "outputs": [
    {
     "data": {
      "text/plain": [
       "685"
      ]
     },
     "execution_count": 22,
     "metadata": {},
     "output_type": "execute_result"
    }
   ],
   "source": [
    "# На примере столбца 'depth' посчитаем выбросы методом 3std\n",
    "depth_mean = df['depth'].mean()\n",
    "depth_std = df['depth'].std()\n",
    "df[(df['depth'] < depth_mean - 3 * depth_std) | (df['depth'] > depth_mean + 3 * depth_std)].shape[0]"
   ]
  },
  {
   "cell_type": "code",
   "execution_count": 23,
   "id": "f5c354bd-dd41-4bab-b665-2c3cc3b93634",
   "metadata": {},
   "outputs": [
    {
     "data": {
      "text/plain": [
       "5372"
      ]
     },
     "execution_count": 23,
     "metadata": {},
     "output_type": "execute_result"
    }
   ],
   "source": [
    "# На примере столбца 'depth' посчитаем выбросы методом 1,5IQR\n",
    "depth_median = df['depth'].median()\n",
    "depth_iqr = df['depth'].quantile(0.75) - df['depth'].quantile(0.25)\n",
    "df[(df['depth'] < depth_median - 1.5 * depth_iqr) | (df['depth'] > depth_median + 1.5 * depth_iqr)].shape[0]"
   ]
  },
  {
   "cell_type": "code",
   "execution_count": 24,
   "id": "457cdaec-f8fe-4c77-bdcc-abf80bfd1ac5",
   "metadata": {},
   "outputs": [
    {
     "data": {
      "text/plain": [
       "439"
      ]
     },
     "execution_count": 24,
     "metadata": {},
     "output_type": "execute_result"
    }
   ],
   "source": [
    "# На примере столбца 'carat' посчитаем выбросы методом 3std\n",
    "carat_mean = df['carat'].mean()\n",
    "carat_std = df['carat'].std()\n",
    "df[(df['carat'] < carat_mean - 3 * carat_std) | (df['carat'] > carat_mean + 3 * carat_std)].shape[0]"
   ]
  },
  {
   "cell_type": "code",
   "execution_count": 25,
   "id": "a454f79a-0e58-401a-b01f-d0a879b2a8d5",
   "metadata": {},
   "outputs": [
    {
     "data": {
      "text/plain": [
       "2968"
      ]
     },
     "execution_count": 25,
     "metadata": {},
     "output_type": "execute_result"
    }
   ],
   "source": [
    "# На примере столбца 'carat' посчитаем выбросы методом 1,5IQR\n",
    "carat_median = df['carat'].median()\n",
    "carat_iqr = df['carat'].quantile(0.75) - df['carat'].quantile(0.25)\n",
    "df[(df['carat'] < carat_median - 1.5 * carat_iqr) | (df['carat'] > carat_median + 1.5 * carat_iqr)].shape[0]"
   ]
  },
  {
   "cell_type": "code",
   "execution_count": 26,
   "id": "aa19486e-8bc9-4459-8ad3-63ce778d0ee4",
   "metadata": {},
   "outputs": [
    {
     "data": {
      "text/html": [
       "<div>\n",
       "<style scoped>\n",
       "    .dataframe tbody tr th:only-of-type {\n",
       "        vertical-align: middle;\n",
       "    }\n",
       "\n",
       "    .dataframe tbody tr th {\n",
       "        vertical-align: top;\n",
       "    }\n",
       "\n",
       "    .dataframe thead th {\n",
       "        text-align: right;\n",
       "    }\n",
       "</style>\n",
       "<table border=\"1\" class=\"dataframe\">\n",
       "  <thead>\n",
       "    <tr style=\"text-align: right;\">\n",
       "      <th></th>\n",
       "      <th>Unnamed: 0</th>\n",
       "      <th>carat</th>\n",
       "      <th>cut</th>\n",
       "      <th>color</th>\n",
       "      <th>clarity</th>\n",
       "      <th>depth</th>\n",
       "      <th>table</th>\n",
       "      <th>price</th>\n",
       "      <th>x</th>\n",
       "      <th>y</th>\n",
       "      <th>z</th>\n",
       "    </tr>\n",
       "  </thead>\n",
       "  <tbody>\n",
       "    <tr>\n",
       "      <th>0</th>\n",
       "      <td>1</td>\n",
       "      <td>0.23</td>\n",
       "      <td>Ideal</td>\n",
       "      <td>E</td>\n",
       "      <td>SI2</td>\n",
       "      <td>61.5</td>\n",
       "      <td>55.0</td>\n",
       "      <td>326</td>\n",
       "      <td>3.95</td>\n",
       "      <td>3.98</td>\n",
       "      <td>2.43</td>\n",
       "    </tr>\n",
       "    <tr>\n",
       "      <th>1</th>\n",
       "      <td>2</td>\n",
       "      <td>0.21</td>\n",
       "      <td>Premium</td>\n",
       "      <td>E</td>\n",
       "      <td>SI1</td>\n",
       "      <td>59.8</td>\n",
       "      <td>61.0</td>\n",
       "      <td>326</td>\n",
       "      <td>3.89</td>\n",
       "      <td>3.84</td>\n",
       "      <td>2.31</td>\n",
       "    </tr>\n",
       "    <tr>\n",
       "      <th>3</th>\n",
       "      <td>4</td>\n",
       "      <td>0.29</td>\n",
       "      <td>Premium</td>\n",
       "      <td>I</td>\n",
       "      <td>VS2</td>\n",
       "      <td>62.4</td>\n",
       "      <td>58.0</td>\n",
       "      <td>334</td>\n",
       "      <td>4.20</td>\n",
       "      <td>4.23</td>\n",
       "      <td>2.63</td>\n",
       "    </tr>\n",
       "    <tr>\n",
       "      <th>4</th>\n",
       "      <td>5</td>\n",
       "      <td>0.31</td>\n",
       "      <td>Good</td>\n",
       "      <td>J</td>\n",
       "      <td>SI2</td>\n",
       "      <td>63.3</td>\n",
       "      <td>58.0</td>\n",
       "      <td>335</td>\n",
       "      <td>4.34</td>\n",
       "      <td>4.35</td>\n",
       "      <td>2.75</td>\n",
       "    </tr>\n",
       "    <tr>\n",
       "      <th>5</th>\n",
       "      <td>6</td>\n",
       "      <td>0.24</td>\n",
       "      <td>Very Good</td>\n",
       "      <td>J</td>\n",
       "      <td>VVS2</td>\n",
       "      <td>62.8</td>\n",
       "      <td>57.0</td>\n",
       "      <td>336</td>\n",
       "      <td>3.94</td>\n",
       "      <td>3.96</td>\n",
       "      <td>2.48</td>\n",
       "    </tr>\n",
       "    <tr>\n",
       "      <th>...</th>\n",
       "      <td>...</td>\n",
       "      <td>...</td>\n",
       "      <td>...</td>\n",
       "      <td>...</td>\n",
       "      <td>...</td>\n",
       "      <td>...</td>\n",
       "      <td>...</td>\n",
       "      <td>...</td>\n",
       "      <td>...</td>\n",
       "      <td>...</td>\n",
       "      <td>...</td>\n",
       "    </tr>\n",
       "    <tr>\n",
       "      <th>53935</th>\n",
       "      <td>53936</td>\n",
       "      <td>0.72</td>\n",
       "      <td>Ideal</td>\n",
       "      <td>D</td>\n",
       "      <td>SI1</td>\n",
       "      <td>60.8</td>\n",
       "      <td>57.0</td>\n",
       "      <td>2757</td>\n",
       "      <td>5.75</td>\n",
       "      <td>5.76</td>\n",
       "      <td>3.50</td>\n",
       "    </tr>\n",
       "    <tr>\n",
       "      <th>53936</th>\n",
       "      <td>53937</td>\n",
       "      <td>0.72</td>\n",
       "      <td>Good</td>\n",
       "      <td>D</td>\n",
       "      <td>SI1</td>\n",
       "      <td>63.1</td>\n",
       "      <td>55.0</td>\n",
       "      <td>2757</td>\n",
       "      <td>5.69</td>\n",
       "      <td>5.75</td>\n",
       "      <td>3.61</td>\n",
       "    </tr>\n",
       "    <tr>\n",
       "      <th>53937</th>\n",
       "      <td>53938</td>\n",
       "      <td>0.70</td>\n",
       "      <td>Very Good</td>\n",
       "      <td>D</td>\n",
       "      <td>SI1</td>\n",
       "      <td>62.8</td>\n",
       "      <td>60.0</td>\n",
       "      <td>2757</td>\n",
       "      <td>5.66</td>\n",
       "      <td>5.68</td>\n",
       "      <td>3.56</td>\n",
       "    </tr>\n",
       "    <tr>\n",
       "      <th>53938</th>\n",
       "      <td>53939</td>\n",
       "      <td>0.86</td>\n",
       "      <td>Premium</td>\n",
       "      <td>H</td>\n",
       "      <td>SI2</td>\n",
       "      <td>61.0</td>\n",
       "      <td>58.0</td>\n",
       "      <td>2757</td>\n",
       "      <td>6.15</td>\n",
       "      <td>6.12</td>\n",
       "      <td>3.74</td>\n",
       "    </tr>\n",
       "    <tr>\n",
       "      <th>53939</th>\n",
       "      <td>53940</td>\n",
       "      <td>0.75</td>\n",
       "      <td>Ideal</td>\n",
       "      <td>D</td>\n",
       "      <td>SI2</td>\n",
       "      <td>62.2</td>\n",
       "      <td>55.0</td>\n",
       "      <td>2757</td>\n",
       "      <td>5.83</td>\n",
       "      <td>5.87</td>\n",
       "      <td>3.64</td>\n",
       "    </tr>\n",
       "  </tbody>\n",
       "</table>\n",
       "<p>50937 rows × 11 columns</p>\n",
       "</div>"
      ],
      "text/plain": [
       "       Unnamed: 0  carat        cut color clarity  depth  table  price     x  \\\n",
       "0               1   0.23      Ideal     E     SI2   61.5   55.0    326  3.95   \n",
       "1               2   0.21    Premium     E     SI1   59.8   61.0    326  3.89   \n",
       "3               4   0.29    Premium     I     VS2   62.4   58.0    334  4.20   \n",
       "4               5   0.31       Good     J     SI2   63.3   58.0    335  4.34   \n",
       "5               6   0.24  Very Good     J    VVS2   62.8   57.0    336  3.94   \n",
       "...           ...    ...        ...   ...     ...    ...    ...    ...   ...   \n",
       "53935       53936   0.72      Ideal     D     SI1   60.8   57.0   2757  5.75   \n",
       "53936       53937   0.72       Good     D     SI1   63.1   55.0   2757  5.69   \n",
       "53937       53938   0.70  Very Good     D     SI1   62.8   60.0   2757  5.66   \n",
       "53938       53939   0.86    Premium     H     SI2   61.0   58.0   2757  6.15   \n",
       "53939       53940   0.75      Ideal     D     SI2   62.2   55.0   2757  5.83   \n",
       "\n",
       "          y     z  \n",
       "0      3.98  2.43  \n",
       "1      3.84  2.31  \n",
       "3      4.23  2.63  \n",
       "4      4.35  2.75  \n",
       "5      3.96  2.48  \n",
       "...     ...   ...  \n",
       "53935  5.76  3.50  \n",
       "53936  5.75  3.61  \n",
       "53937  5.68  3.56  \n",
       "53938  6.12  3.74  \n",
       "53939  5.87  3.64  \n",
       "\n",
       "[50937 rows x 11 columns]"
      ]
     },
     "execution_count": 26,
     "metadata": {},
     "output_type": "execute_result"
    }
   ],
   "source": [
    "# Для удаления выбросов в колонках 'price', 'carat' и 'depth' воспользуемся методом 3std,\n",
    "# чтобы не терять в большом количестве интересные для анализа данные.\n",
    "# В других колонках удалим выбросы с помощью метода 1,5IQR\n",
    "\n",
    "table_median = df['table'].median()\n",
    "table_iqr = df['table'].quantile(0.75) - df['table'].quantile(0.25)\n",
    "dfc = df[(df['table'] >= table_median - 1.5 * table_iqr) & (df['table'] <= table_median + 1.5 * table_iqr)]\n",
    "\n",
    "x_median = df['x'].median()\n",
    "x_iqr = df['x'].quantile(0.75) - df['x'].quantile(0.25)\n",
    "dfc = dfc[(dfc['x'] >= x_median - 1.5 * x_iqr) & (dfc['x'] <= x_median + 1.5 * x_iqr)]\n",
    "\n",
    "y_median = df['y'].median()\n",
    "y_iqr = df['y'].quantile(0.75) - df['y'].quantile(0.25)\n",
    "dfc = dfc[(dfc['y'] >= y_median - 1.5 * y_iqr) & (dfc['y'] <= y_median + 1.5 * y_iqr)]\n",
    "\n",
    "z_median = df['z'].median()\n",
    "z_iqr = df['z'].quantile(0.75) - df['z'].quantile(0.25)\n",
    "dfc = dfc[(dfc['z'] >= z_median - 1.5 * z_iqr) & (dfc['z'] <= z_median + 1.5 * z_iqr)]\n",
    "\n",
    "price_mean = df['price'].mean()\n",
    "price_std = df['price'].std()\n",
    "dfc[(dfc['price'] >= price_mean - 3 * price_std) & (dfc['price'] <= price_mean + 3 * price_std)]\n",
    "\n",
    "depth_mean = df['depth'].mean()\n",
    "depth_std = df['depth'].std()\n",
    "dfc[(dfc['depth'] >= depth_mean - 3 * depth_std) & (dfc['depth'] <= depth_mean + 3 * depth_std)]\n",
    "\n",
    "carat_mean = df['carat'].mean()\n",
    "carat_std = df['carat'].std()\n",
    "dfc[(dfc['carat'] >= carat_mean - 3 * carat_std) & (dfc['carat'] <= carat_mean + 3 * carat_std)]\n",
    "\n",
    "dfc"
   ]
  },
  {
   "cell_type": "code",
   "execution_count": 27,
   "id": "dcb7c1f4-01d4-4ac2-9d1e-3792a297e209",
   "metadata": {},
   "outputs": [
    {
     "data": {
      "text/html": [
       "<div>\n",
       "<style scoped>\n",
       "    .dataframe tbody tr th:only-of-type {\n",
       "        vertical-align: middle;\n",
       "    }\n",
       "\n",
       "    .dataframe tbody tr th {\n",
       "        vertical-align: top;\n",
       "    }\n",
       "\n",
       "    .dataframe thead th {\n",
       "        text-align: right;\n",
       "    }\n",
       "</style>\n",
       "<table border=\"1\" class=\"dataframe\">\n",
       "  <thead>\n",
       "    <tr style=\"text-align: right;\">\n",
       "      <th></th>\n",
       "      <th>Unnamed: 0</th>\n",
       "      <th>carat</th>\n",
       "      <th>depth</th>\n",
       "      <th>table</th>\n",
       "      <th>price</th>\n",
       "      <th>x</th>\n",
       "      <th>y</th>\n",
       "      <th>z</th>\n",
       "    </tr>\n",
       "  </thead>\n",
       "  <tbody>\n",
       "    <tr>\n",
       "      <th>count</th>\n",
       "      <td>50937.000000</td>\n",
       "      <td>50937.000000</td>\n",
       "      <td>50937.000000</td>\n",
       "      <td>50937.000000</td>\n",
       "      <td>50937.000000</td>\n",
       "      <td>50937.000000</td>\n",
       "      <td>50937.000000</td>\n",
       "      <td>50937.000000</td>\n",
       "    </tr>\n",
       "    <tr>\n",
       "      <th>mean</th>\n",
       "      <td>27094.285372</td>\n",
       "      <td>0.777866</td>\n",
       "      <td>61.813299</td>\n",
       "      <td>57.192587</td>\n",
       "      <td>3819.814104</td>\n",
       "      <td>5.689583</td>\n",
       "      <td>5.692845</td>\n",
       "      <td>3.517892</td>\n",
       "    </tr>\n",
       "    <tr>\n",
       "      <th>std</th>\n",
       "      <td>15542.407354</td>\n",
       "      <td>0.449440</td>\n",
       "      <td>1.330302</td>\n",
       "      <td>1.868769</td>\n",
       "      <td>3867.543247</td>\n",
       "      <td>1.091931</td>\n",
       "      <td>1.085123</td>\n",
       "      <td>0.675776</td>\n",
       "    </tr>\n",
       "    <tr>\n",
       "      <th>min</th>\n",
       "      <td>1.000000</td>\n",
       "      <td>0.200000</td>\n",
       "      <td>43.000000</td>\n",
       "      <td>52.800000</td>\n",
       "      <td>326.000000</td>\n",
       "      <td>3.730000</td>\n",
       "      <td>3.680000</td>\n",
       "      <td>2.060000</td>\n",
       "    </tr>\n",
       "    <tr>\n",
       "      <th>25%</th>\n",
       "      <td>13657.000000</td>\n",
       "      <td>0.390000</td>\n",
       "      <td>61.100000</td>\n",
       "      <td>56.000000</td>\n",
       "      <td>932.000000</td>\n",
       "      <td>4.690000</td>\n",
       "      <td>4.700000</td>\n",
       "      <td>2.900000</td>\n",
       "    </tr>\n",
       "    <tr>\n",
       "      <th>50%</th>\n",
       "      <td>27350.000000</td>\n",
       "      <td>0.700000</td>\n",
       "      <td>61.900000</td>\n",
       "      <td>57.000000</td>\n",
       "      <td>2336.000000</td>\n",
       "      <td>5.670000</td>\n",
       "      <td>5.680000</td>\n",
       "      <td>3.510000</td>\n",
       "    </tr>\n",
       "    <tr>\n",
       "      <th>75%</th>\n",
       "      <td>40516.000000</td>\n",
       "      <td>1.040000</td>\n",
       "      <td>62.500000</td>\n",
       "      <td>59.000000</td>\n",
       "      <td>5235.000000</td>\n",
       "      <td>6.520000</td>\n",
       "      <td>6.520000</td>\n",
       "      <td>4.030000</td>\n",
       "    </tr>\n",
       "    <tr>\n",
       "      <th>max</th>\n",
       "      <td>53940.000000</td>\n",
       "      <td>2.300000</td>\n",
       "      <td>78.200000</td>\n",
       "      <td>61.500000</td>\n",
       "      <td>18818.000000</td>\n",
       "      <td>8.440000</td>\n",
       "      <td>8.440000</td>\n",
       "      <td>5.220000</td>\n",
       "    </tr>\n",
       "  </tbody>\n",
       "</table>\n",
       "</div>"
      ],
      "text/plain": [
       "         Unnamed: 0         carat         depth         table         price  \\\n",
       "count  50937.000000  50937.000000  50937.000000  50937.000000  50937.000000   \n",
       "mean   27094.285372      0.777866     61.813299     57.192587   3819.814104   \n",
       "std    15542.407354      0.449440      1.330302      1.868769   3867.543247   \n",
       "min        1.000000      0.200000     43.000000     52.800000    326.000000   \n",
       "25%    13657.000000      0.390000     61.100000     56.000000    932.000000   \n",
       "50%    27350.000000      0.700000     61.900000     57.000000   2336.000000   \n",
       "75%    40516.000000      1.040000     62.500000     59.000000   5235.000000   \n",
       "max    53940.000000      2.300000     78.200000     61.500000  18818.000000   \n",
       "\n",
       "                  x             y             z  \n",
       "count  50937.000000  50937.000000  50937.000000  \n",
       "mean       5.689583      5.692845      3.517892  \n",
       "std        1.091931      1.085123      0.675776  \n",
       "min        3.730000      3.680000      2.060000  \n",
       "25%        4.690000      4.700000      2.900000  \n",
       "50%        5.670000      5.680000      3.510000  \n",
       "75%        6.520000      6.520000      4.030000  \n",
       "max        8.440000      8.440000      5.220000  "
      ]
     },
     "execution_count": 27,
     "metadata": {},
     "output_type": "execute_result"
    }
   ],
   "source": [
    "dfc.describe()"
   ]
  },
  {
   "cell_type": "code",
   "execution_count": 28,
   "id": "125d7b1d-3007-48f3-9ad5-2cab82508f43",
   "metadata": {},
   "outputs": [
    {
     "data": {
      "text/plain": [
       "count    53940.000000\n",
       "mean      3932.799722\n",
       "std       3989.439738\n",
       "min        326.000000\n",
       "25%        950.000000\n",
       "50%       2401.000000\n",
       "75%       5324.250000\n",
       "max      18823.000000\n",
       "Name: price, dtype: float64"
      ]
     },
     "execution_count": 28,
     "metadata": {},
     "output_type": "execute_result"
    }
   ],
   "source": [
    "# Рассмотрим признак price\n",
    "df['price'].describe()"
   ]
  },
  {
   "cell_type": "code",
   "execution_count": 29,
   "id": "4e52d0a6-1db7-44fe-b80a-19c3340a6387",
   "metadata": {},
   "outputs": [
    {
     "data": {
      "text/plain": [
       "(2336.0, 605, 3819.8141036967236)"
      ]
     },
     "execution_count": 29,
     "metadata": {},
     "output_type": "execute_result"
    }
   ],
   "source": [
    "# Проинтерпретируем описательные статистики колонки price, дополнительно посчитаем медиану и моду, среднее возьмем из таблицы ()\n",
    "med_price = dfc['price'].median()\n",
    "mode_price = dfc['price'].mode()[0]\n",
    "avg_price = dfc.describe()['price']['mean']\n",
    "med_price, mode_price, avg_price"
   ]
  },
  {
   "cell_type": "code",
   "execution_count": 30,
   "id": "d2824ba2-ca13-4ed0-9f66-2080c204536b",
   "metadata": {},
   "outputs": [
    {
     "data": {
      "text/plain": [
       "price\n",
       "605      130\n",
       "802      126\n",
       "625      125\n",
       "828      123\n",
       "776      122\n",
       "        ... \n",
       "8523       1\n",
       "14196      1\n",
       "8525       1\n",
       "14190      1\n",
       "9532       1\n",
       "Name: count, Length: 11171, dtype: int64"
      ]
     },
     "execution_count": 30,
     "metadata": {},
     "output_type": "execute_result"
    }
   ],
   "source": [
    "dfc['price'].value_counts()\n",
    "# Мода одна"
   ]
  },
  {
   "cell_type": "code",
   "execution_count": 31,
   "id": "c7209a21-c500-4b07-9fb7-71dcac18d067",
   "metadata": {},
   "outputs": [
    {
     "data": {
      "image/png": "[encoded data removed]",
      "text/plain": [
       "<Figure size 640x480 with 1 Axes>"
      ]
     },
     "metadata": {},
     "output_type": "display_data"
    }
   ],
   "source": [
    "dfc['price'].plot(kind='hist', bins=70);"
   ]
  },
  {
   "cell_type": "code",
   "execution_count": 32,
   "id": "e456f999-e603-4460-98ee-5e03ad8cae27",
   "metadata": {},
   "outputs": [],
   "source": [
    "# Распределение цены бриллиантов является унимодальным скошенненным вправо, так как мода < медиана < среднее арифметическое и мода одна.\n",
    "# Средняя цена бридллианта 3820 долларов, среднее значение получилось значительно больше, чем медиана, потому что в выборке присутствуют очень дорогие бриллианты,\n",
    "# которые не были исключены как выбросы методом 3std.\n",
    "# Размах вариации очень большой: 18818 - 326 = 18492\n",
    "# 50% бриллиантов из выборки по цене находятся в дипазоне между 932 и 5235 долларами (5325 - 932 = 4393 - интерквартильный размах)\n",
    "# Выборка неоднородна, так как коэффициент вариации std / mean * 100% = 101.3% что больше чем 33%\n",
    "# Квартильный коэффициент дифференцации Kq =  q3 / q1 = 5.71, высокая степень дифференицации"
   ]
  },
  {
   "cell_type": "code",
   "execution_count": 33,
   "id": "4d31d917-109e-47f8-ac57-4ebcaa0609e1",
   "metadata": {},
   "outputs": [],
   "source": [
    "# Теперь проанализируем категориальную переменную 'color'.\n",
    "# У категориальной порядковой переменной можно посчитать моду; если она закодирована цифрами и количество категорий нечетное, то можно еще посчитать медиану\n",
    "# У нас 'color' закодирован буквами, поэтому определяем только моду\n",
    "# Также посчитаем количесвто категорий у признака."
   ]
  },
  {
   "cell_type": "code",
   "execution_count": 34,
   "id": "b148830f-9894-4ab3-bcd2-2bc2f5cf507f",
   "metadata": {},
   "outputs": [
    {
     "data": {
      "text/plain": [
       "count     50937\n",
       "unique        7\n",
       "top           G\n",
       "freq      10824\n",
       "Name: color, dtype: object"
      ]
     },
     "execution_count": 34,
     "metadata": {},
     "output_type": "execute_result"
    }
   ],
   "source": [
    "# Основные характеристики признака\n",
    "dfc['color'].describe()"
   ]
  },
  {
   "cell_type": "code",
   "execution_count": 35,
   "id": "dcd405cb-40db-4f9f-b097-1ed1fed6f5c7",
   "metadata": {},
   "outputs": [
    {
     "data": {
      "text/plain": [
       "'G'"
      ]
     },
     "execution_count": 35,
     "metadata": {},
     "output_type": "execute_result"
    }
   ],
   "source": [
    "# Мода\n",
    "dfc['color'].mode()[0]"
   ]
  },
  {
   "cell_type": "code",
   "execution_count": 36,
   "id": "18b42364-d53d-463e-901b-623940c34b7b",
   "metadata": {},
   "outputs": [
    {
     "data": {
      "text/plain": [
       "7"
      ]
     },
     "execution_count": 36,
     "metadata": {},
     "output_type": "execute_result"
    }
   ],
   "source": [
    "# Количсевто уникальных значений признака\n",
    "dfc['color'].nunique()"
   ]
  },
  {
   "cell_type": "code",
   "execution_count": 37,
   "id": "7b983128-03b3-4e7a-9789-cec4d6b0073f",
   "metadata": {},
   "outputs": [
    {
     "data": {
      "text/plain": [
       "color\n",
       "G    10824\n",
       "E     9295\n",
       "F     9069\n",
       "H     7785\n",
       "D     6446\n",
       "I     5008\n",
       "J     2510\n",
       "Name: count, dtype: int64"
      ]
     },
     "execution_count": 37,
     "metadata": {},
     "output_type": "execute_result"
    }
   ],
   "source": [
    "# Выведем эти категории и соответствующие частоты\n",
    "dfc['color'].value_counts()"
   ]
  },
  {
   "cell_type": "code",
   "execution_count": 38,
   "id": "3cbd80db-bdc3-4f5b-9113-f9ded7c45ae0",
   "metadata": {},
   "outputs": [
    {
     "data": {
      "image/png": "[encoded data removed]",
      "text/plain": [
       "<Figure size 640x480 with 1 Axes>"
      ]
     },
     "metadata": {},
     "output_type": "display_data"
    }
   ],
   "source": [
    "# Если посмотреть на \"распределение\" брриллиантов по цвету, можно отметить, что бóльшее число бриллиантов относится к \"средним\" по качеству цвета категориям;\n",
    "# при этом минимальное количесвто бриилиантов из выборки попали в категорию J (худшую из представленных) \n",
    "dfc['color'].value_counts().sort_index().plot(kind='bar');"
   ]
  },
  {
   "cell_type": "code",
   "execution_count": 39,
   "id": "97d2847c-70ea-4ce3-928d-1796413c08da",
   "metadata": {},
   "outputs": [],
   "source": [
    "# Теперь перейдем к визуализации\n",
    "from matplotlib import pyplot as plt"
   ]
  },
  {
   "cell_type": "code",
   "execution_count": 40,
   "id": "280e730e-a123-443a-89d5-6d6a1d61e806",
   "metadata": {},
   "outputs": [
    {
     "data": {
      "image/png": "[encoded data removed]",
      "text/plain": [
       "<Figure size 700x700 with 1 Axes>"
      ]
     },
     "metadata": {},
     "output_type": "display_data"
    }
   ],
   "source": [
    "# Диаграмма рассеяния: зависимость цены бриллианта от количества карат\n",
    "\n",
    "plt.figure(figsize=[7, 7])\n",
    "plt.scatter(dfc['carat'], dfc['price'], c='#81038c')\n",
    "plt.title('Зависимость цены бриллианта от количества карат\\n', fontsize=15)\n",
    "plt.xlabel('Количество карат')\n",
    "plt.ylabel('Цена бриллианта')\n",
    "plt.show()\n",
    "\n",
    "# Можем наблюдать не очень явную прямую зависимость между количесвтом карат и ценой бриллианта при малом количесвте карат (до 1). Далее, с увеличением\n",
    "# количества карат, зависимость теряется, что особенно заметно при количесвте карат, равном 1, 1.5 и 2 (прослеживаются \"вертикальные линии на графике\n",
    "# на уровне соответствующих значений\")"
   ]
  },
  {
   "cell_type": "code",
   "execution_count": 41,
   "id": "c1750a22-6029-45eb-823a-5436061d615f",
   "metadata": {},
   "outputs": [
    {
     "data": {
      "image/png": "[encoded data removed]",
      "text/plain": [
       "<Figure size 640x480 with 1 Axes>"
      ]
     },
     "metadata": {},
     "output_type": "display_data"
    }
   ],
   "source": [
    "# Диаграмма рассеяния: зависимость между \"длиной\" и \"шириной\" бриллианта\n",
    "\n",
    "plt.scatter(dfc['x'], dfc['y'], c='#81038c')\n",
    "plt.xticks([2, 4, 6, 8, 10, 12])\n",
    "plt.yticks([2, 4, 6, 8, 10, 12])\n",
    "plt.title('Зависимость между \"длиной\" и \"шириной\" бриллианта\\n', fontsize=15)\n",
    "plt.xlabel('Длина бриллианта')\n",
    "plt.ylabel('Ширина бриллианта')\n",
    "plt.show()\n",
    "\n",
    "# Наблюдаем ярко выраженную линейную прямую зависимость между \"длиной\" и \"шириной\" бриллианта. Это говорит о том, что в основной массе \"шапка\" бриллиантов\n",
    "# имеют округлую форму."
   ]
  },
  {
   "cell_type": "code",
   "execution_count": 42,
   "id": "49b7e0ba-a0d7-482d-a950-450a11f27792",
   "metadata": {},
   "outputs": [
    {
     "data": {
      "image/png": "[encoded data removed]",
      "text/plain": [
       "<Figure size 640x480 with 1 Axes>"
      ]
     },
     "metadata": {},
     "output_type": "display_data"
    }
   ],
   "source": [
    "# Столбчатая диаграмма: качесвто огранки бриллиантов\n",
    "\n",
    "plt.bar(dfc['cut'].value_counts().index, dfc['cut'].value_counts(), color='#81038c')\n",
    "plt.title('Распределение бриллиантов на группы в зависимости от качества огранки\\n', fontsize=15)\n",
    "plt.xlabel('\\nКатегории качества огранки')\n",
    "plt.ylabel('Количество бриллиантов')\n",
    "plt.show()\n",
    "\n",
    "# Можно отметить, что чаще всего бриллианты являются идеальными по огранке. И в целом бриллианты с относительно некачесвтенной огранкой (Good, Fair)\n",
    "# встречаются редко."
   ]
  },
  {
   "cell_type": "code",
   "execution_count": 43,
   "id": "b06d5b69-4a7f-4391-8e24-eba1105a57e4",
   "metadata": {},
   "outputs": [
    {
     "data": {
      "image/png": "[encoded data removed]",
      "text/plain": [
       "<Figure size 640x480 with 1 Axes>"
      ]
     },
     "metadata": {},
     "output_type": "display_data"
    }
   ],
   "source": [
    "# Гистограмма для признака высота бриллианта\n",
    "\n",
    "plt.hist(dfc['z'], bins=13, color='#81038c')\n",
    "plt.title('Распределение бриллиантов по высоте\\n', fontsize=15)\n",
    "plt.xlabel('Высота бриллианта в мм')\n",
    "plt.ylabel('Количесвто бриллиантов')\n",
    "plt.show()\n",
    "\n",
    "# График не похож на нормальное распределение.\n",
    "# Можно отметить, что самыми популярными являются бриллианты с высотой в интервале примерно 2.6 - 2.8 мм, также не редкость - бриллианты с высотой в\n",
    "# в интервале 4 - 4.2 мм. В то время как остальные интервалы являются относительно нечастыми."
   ]
  },
  {
   "cell_type": "code",
   "execution_count": 44,
   "id": "140b29f3-1066-4b09-b0a8-8615bca4addf",
   "metadata": {},
   "outputs": [
    {
     "data": {
      "text/html": [
       "<div>\n",
       "<style scoped>\n",
       "    .dataframe tbody tr th:only-of-type {\n",
       "        vertical-align: middle;\n",
       "    }\n",
       "\n",
       "    .dataframe tbody tr th {\n",
       "        vertical-align: top;\n",
       "    }\n",
       "\n",
       "    .dataframe thead th {\n",
       "        text-align: right;\n",
       "    }\n",
       "</style>\n",
       "<table border=\"1\" class=\"dataframe\">\n",
       "  <thead>\n",
       "    <tr style=\"text-align: right;\">\n",
       "      <th></th>\n",
       "      <th>carat</th>\n",
       "      <th>depth</th>\n",
       "      <th>table</th>\n",
       "      <th>price</th>\n",
       "      <th>x</th>\n",
       "      <th>y</th>\n",
       "      <th>z</th>\n",
       "    </tr>\n",
       "  </thead>\n",
       "  <tbody>\n",
       "    <tr>\n",
       "      <th>carat</th>\n",
       "      <td>1.000000</td>\n",
       "      <td>0.035083</td>\n",
       "      <td>0.189713</td>\n",
       "      <td>0.922245</td>\n",
       "      <td>0.981141</td>\n",
       "      <td>0.980358</td>\n",
       "      <td>0.980293</td>\n",
       "    </tr>\n",
       "    <tr>\n",
       "      <th>depth</th>\n",
       "      <td>0.035083</td>\n",
       "      <td>1.000000</td>\n",
       "      <td>-0.227261</td>\n",
       "      <td>-0.010541</td>\n",
       "      <td>-0.013195</td>\n",
       "      <td>-0.017038</td>\n",
       "      <td>0.100035</td>\n",
       "    </tr>\n",
       "    <tr>\n",
       "      <th>table</th>\n",
       "      <td>0.189713</td>\n",
       "      <td>-0.227261</td>\n",
       "      <td>1.000000</td>\n",
       "      <td>0.143468</td>\n",
       "      <td>0.194540</td>\n",
       "      <td>0.189815</td>\n",
       "      <td>0.165573</td>\n",
       "    </tr>\n",
       "    <tr>\n",
       "      <th>price</th>\n",
       "      <td>0.922245</td>\n",
       "      <td>-0.010541</td>\n",
       "      <td>0.143468</td>\n",
       "      <td>1.000000</td>\n",
       "      <td>0.884878</td>\n",
       "      <td>0.886280</td>\n",
       "      <td>0.879715</td>\n",
       "    </tr>\n",
       "    <tr>\n",
       "      <th>x</th>\n",
       "      <td>0.981141</td>\n",
       "      <td>-0.013195</td>\n",
       "      <td>0.194540</td>\n",
       "      <td>0.884878</td>\n",
       "      <td>1.000000</td>\n",
       "      <td>0.998673</td>\n",
       "      <td>0.992720</td>\n",
       "    </tr>\n",
       "    <tr>\n",
       "      <th>y</th>\n",
       "      <td>0.980358</td>\n",
       "      <td>-0.017038</td>\n",
       "      <td>0.189815</td>\n",
       "      <td>0.886280</td>\n",
       "      <td>0.998673</td>\n",
       "      <td>1.000000</td>\n",
       "      <td>0.992271</td>\n",
       "    </tr>\n",
       "    <tr>\n",
       "      <th>z</th>\n",
       "      <td>0.980293</td>\n",
       "      <td>0.100035</td>\n",
       "      <td>0.165573</td>\n",
       "      <td>0.879715</td>\n",
       "      <td>0.992720</td>\n",
       "      <td>0.992271</td>\n",
       "      <td>1.000000</td>\n",
       "    </tr>\n",
       "  </tbody>\n",
       "</table>\n",
       "</div>"
      ],
      "text/plain": [
       "          carat     depth     table     price         x         y         z\n",
       "carat  1.000000  0.035083  0.189713  0.922245  0.981141  0.980358  0.980293\n",
       "depth  0.035083  1.000000 -0.227261 -0.010541 -0.013195 -0.017038  0.100035\n",
       "table  0.189713 -0.227261  1.000000  0.143468  0.194540  0.189815  0.165573\n",
       "price  0.922245 -0.010541  0.143468  1.000000  0.884878  0.886280  0.879715\n",
       "x      0.981141 -0.013195  0.194540  0.884878  1.000000  0.998673  0.992720\n",
       "y      0.980358 -0.017038  0.189815  0.886280  0.998673  1.000000  0.992271\n",
       "z      0.980293  0.100035  0.165573  0.879715  0.992720  0.992271  1.000000"
      ]
     },
     "execution_count": 44,
     "metadata": {},
     "output_type": "execute_result"
    }
   ],
   "source": [
    "# Построим матрицу корреляций\n",
    "dfc.drop(columns='Unnamed: 0').corr(numeric_only = True)"
   ]
  },
  {
   "cell_type": "code",
   "execution_count": 45,
   "id": "50575aa7-4cc9-464e-949d-7dbb65c0a28d",
   "metadata": {},
   "outputs": [],
   "source": [
    "# 1) Очень сильная корреляция (прямая весьма высокая) наблюдается между признаками, характеризующими размер бриллианта (x, y, z),\n",
    "# и весом этого бриллианта в каратах (corr>0.98), что интуитивно понятно.\n",
    "# 2) Также очень сильна линейная зависимость (прямая весьма высокая корреляция) наблюдаетмся между ценой бриллианта и количеством карат (corr>0.92),\n",
    "# что несколько противоречит выводам, полученным из анализа диаграммы рассеяния выше.\n",
    "# 3) Еще одна ожидаемо высокая корреляция (высокая прямая) наблюдается между ценой бриллианта и его размерами (0.87<corr<0.89).\n",
    "# 4) Самые сильные линейные зависимости (прямая весьма высокая корреляция) наблюдаются между признаками, характеризующими длину, ширину и\n",
    "# высоту бриллианта (corr>0.99), что тоже неудивительно.\n",
    "# 5) Из интересного: можем набюдать, что между глубиной ('depth'), которая характеризует \"вытянутость\" бриллианта, и признаком 'table', который\n",
    "# представляет собой отношение диаметра верхней части бриллианта к диаметру его самой широкой части, существует слабая обратная корреляция, что тоже\n",
    "# можно назвать ожидаемым результатом (визуально представьте себе вытянутый и сплющенный бриллианты)\n",
    "# 6) Между остальными признаками корреляции либо нет, либо она слабая."
   ]
  },
  {
   "cell_type": "code",
   "execution_count": 46,
   "id": "5388ec41-a82a-4729-8c1b-3602f6808d0d",
   "metadata": {},
   "outputs": [
    {
     "data": {
      "text/plain": [
       "'\\nОбзор литературы на тему: \\n1) Статья \"Факторы влияющие на формирование цены на продукцию алмазодобывающей отрасли\" (Анисимова Алла Борисовна, Патрушева Елена Владимировна)\\nВ статье авторы выделяют основные факторы, которые определяют цену алмазов. Среди них: себестоимость производства и инвестиционные вложения,\\nустановленная конкурентами цена, качество продукции. Также в статье рассмотрены курпнейшие компании, специализирующиеся на производстве алмазов,\\nи страны-лидеры в этой отрасли. Для формулирования гипотезы наибольший интерес представляет собой финальная часть работы, где авторы отмечают большую\\nроль качесвта продукции в формировании цен на бриллианты. В рамках проекта будет проверено, насколько качество сырья (признаки \\'color\\' и \\'clarity\\') влияют\\nна ценообразование в отрасли\\n2) Статья \"Особенности формирования цены на бриллианты\" (Борздова Т.В.). В статье также рассмотрены факторы, влияющие на ценообразование в рассматриваемой\\nотрасли, однако автор анализирует влияние на цену бриллиантов, а не алмазов, что еще более релевантно в нашем случае. Основные выделенные в статье\\nфакторы: вес, цвет, чистота и огранка бриллианта. Также в статье рассмотрена привлекательность инвестиций в производство бриллиантов, что, однако, не\\nинтересует нас в этом проекте. Наибольший интерес представляет утверждение: на цену бриллиантов влияет не непосредственно вес, а весовая категория,\\nк которой относится бриллиант. Поэтому, согласно статье, алмазы зачастую специально гранят так, чтобы они попали в более высокую весовую категорию. В\\nрамках проекта мы проверим, насколько качество огранки (\\'cut\\') хуже у тех бриллиантов, которые находятся на границе между весовыми категориями (использовать\\nбудем признак \\'carat\\'). Гипотеза заключается в том, что качество огранки хуже у тех бриллиантов, которые принадлежат к нижним границам весовых категорий).\\nТакже в статье утверждается, что размер бриллиантов нелинейно влияет на их цену, так как большие бриллианты очень редки, что объясняет\\nдополнительную наценку (будем использовать признаки \\'price\\' и \\'carat\\'). Метод - расчет корреляции между признаками и поиск нелинейной взаимосвязи.\\n'"
      ]
     },
     "execution_count": 46,
     "metadata": {},
     "output_type": "execute_result"
    }
   ],
   "source": [
    "'''\n",
    "Обзор литературы на тему: \n",
    "1) Статья \"Факторы влияющие на формирование цены на продукцию алмазодобывающей отрасли\" (Анисимова Алла Борисовна, Патрушева Елена Владимировна)\n",
    "В статье авторы выделяют основные факторы, которые определяют цену алмазов. Среди них: себестоимость производства и инвестиционные вложения,\n",
    "установленная конкурентами цена, качество продукции. Также в статье рассмотрены курпнейшие компании, специализирующиеся на производстве алмазов,\n",
    "и страны-лидеры в этой отрасли. Для формулирования гипотезы наибольший интерес представляет собой финальная часть работы, где авторы отмечают большую\n",
    "роль качесвта продукции в формировании цен на бриллианты. В рамках проекта будет проверено, насколько качество сырья (признаки 'color' и 'clarity') влияют\n",
    "на ценообразование в отрасли\n",
    "2) Статья \"Особенности формирования цены на бриллианты\" (Борздова Т.В.). В статье также рассмотрены факторы, влияющие на ценообразование в рассматриваемой\n",
    "отрасли, однако автор анализирует влияние на цену бриллиантов, а не алмазов, что еще более релевантно в нашем случае. Основные выделенные в статье\n",
    "факторы: вес, цвет, чистота и огранка бриллианта. Также в статье рассмотрена привлекательность инвестиций в производство бриллиантов, что, однако, не\n",
    "интересует нас в этом проекте. Наибольший интерес представляет утверждение: на цену бриллиантов влияет не непосредственно вес, а весовая категория,\n",
    "к которой относится бриллиант. Поэтому, согласно статье, алмазы зачастую специально гранят так, чтобы они попали в более высокую весовую категорию. В\n",
    "рамках проекта мы проверим, насколько качество огранки ('cut') хуже у тех бриллиантов, которые находятся на границе между весовыми категориями (использовать\n",
    "будем признак 'carat'). Гипотеза заключается в том, что качество огранки хуже у тех бриллиантов, которые принадлежат к нижним границам весовых категорий).\n",
    "Также в статье утверждается, что размер бриллиантов нелинейно влияет на их цену, так как большие бриллианты очень редки, что объясняет\n",
    "дополнительную наценку (будем использовать признаки 'price' и 'carat'). Метод - расчет корреляции между признаками и поиск нелинейной взаимосвязи.\n",
    "'''"
   ]
  },
  {
   "cell_type": "markdown",
   "id": "254e9e82-3a04-4063-bab4-5c20faa24002",
   "metadata": {},
   "source": [
    "#### KT3"
   ]
  },
  {
   "cell_type": "markdown",
   "id": "ac80b470-cd6b-47d3-9a5f-c272ec4f65da",
   "metadata": {},
   "source": [
    "**Гипотеза для проверки с помощью критерия независимости хи-квадрат**"
   ]
  },
  {
   "cell_type": "markdown",
   "id": "6f623170-8946-4df8-a4f1-b1ecb4f25218",
   "metadata": {},
   "source": [
    "Мы хотим определить, есть ли зависимость между весом бриллианта (в каратах) и его чистотой (прозрачностью). Мы предполагаем, что чистота бриллианта никак не связана с его весом в каратах: маленький вес не гарантирует идеальную прозрачность бриллианта и, наоборот, если он обладает большим весом, то это не значит, что он имеет много включений. "
   ]
  },
  {
   "cell_type": "markdown",
   "id": "8cab272a-e8f6-4224-abda-75359315954c",
   "metadata": {},
   "source": [
    "Нулевая гипотеза $ H_0 $ : вес бриллианта (в каратах) **не зависит** от его чистоты"
   ]
  },
  {
   "cell_type": "markdown",
   "id": "416f975f-4ced-4c34-aca9-360a54f45800",
   "metadata": {},
   "source": [
    "Разделим бриллианты на 2 категории по их весу в каратах: 'Small' и 'Big'. Будем считать, что если вес бриллианта в каратах меньше медианного значения, то тогда он будет относится в категорию 'Small', иначе - в категорию 'Big', и запишем данные значения в новый столбец 'carat_cat'"
   ]
  },
  {
   "cell_type": "code",
   "execution_count": 52,
   "id": "7fddd478-4e81-48de-9b1c-85a34427085d",
   "metadata": {},
   "outputs": [],
   "source": [
    "med_car = dfc['carat'].median()"
   ]
  },
  {
   "cell_type": "code",
   "execution_count": 53,
   "id": "7e4da4ed-2ee8-4d65-b662-161c37daac1f",
   "metadata": {},
   "outputs": [],
   "source": [
    "dfc['carat_cat'] = dfc['carat'].apply(lambda x: 'Small' if x < med_car else 'Big') \n"
   ]
  },
  {
   "cell_type": "markdown",
   "id": "7bb1ad75-37db-4c37-9f78-30d2e21e568b",
   "metadata": {},
   "source": [
    "Разделим бриллианты на 3 категории по их чистоте. К категории 'Bad' относятся бриллианты с заметными включениями (группы I1, SI2, SI1). К категории 'Normal' принадлежат бриллианты с очень небольшими включениями (группы VS2, VS1). К категории 'Good' относятся бриллианты с чистотой близкой к идеальной или идеальной (группы VVS2, VVS1, IF)."
   ]
  },
  {
   "cell_type": "code",
   "execution_count": 55,
   "id": "e63cf8bc-8ead-43c6-b17f-0e1b3b7d6938",
   "metadata": {},
   "outputs": [
    {
     "data": {
      "text/html": [
       "<div>\n",
       "<style scoped>\n",
       "    .dataframe tbody tr th:only-of-type {\n",
       "        vertical-align: middle;\n",
       "    }\n",
       "\n",
       "    .dataframe tbody tr th {\n",
       "        vertical-align: top;\n",
       "    }\n",
       "\n",
       "    .dataframe thead th {\n",
       "        text-align: right;\n",
       "    }\n",
       "</style>\n",
       "<table border=\"1\" class=\"dataframe\">\n",
       "  <thead>\n",
       "    <tr style=\"text-align: right;\">\n",
       "      <th></th>\n",
       "      <th>Unnamed: 0</th>\n",
       "      <th>carat</th>\n",
       "      <th>cut</th>\n",
       "      <th>color</th>\n",
       "      <th>clarity</th>\n",
       "      <th>depth</th>\n",
       "      <th>table</th>\n",
       "      <th>price</th>\n",
       "      <th>x</th>\n",
       "      <th>y</th>\n",
       "      <th>z</th>\n",
       "      <th>carat_cat</th>\n",
       "      <th>clarity_cat</th>\n",
       "    </tr>\n",
       "  </thead>\n",
       "  <tbody>\n",
       "    <tr>\n",
       "      <th>0</th>\n",
       "      <td>1</td>\n",
       "      <td>0.23</td>\n",
       "      <td>Ideal</td>\n",
       "      <td>E</td>\n",
       "      <td>SI2</td>\n",
       "      <td>61.5</td>\n",
       "      <td>55.0</td>\n",
       "      <td>326</td>\n",
       "      <td>3.95</td>\n",
       "      <td>3.98</td>\n",
       "      <td>2.43</td>\n",
       "      <td>Small</td>\n",
       "      <td>Bad</td>\n",
       "    </tr>\n",
       "    <tr>\n",
       "      <th>1</th>\n",
       "      <td>2</td>\n",
       "      <td>0.21</td>\n",
       "      <td>Premium</td>\n",
       "      <td>E</td>\n",
       "      <td>SI1</td>\n",
       "      <td>59.8</td>\n",
       "      <td>61.0</td>\n",
       "      <td>326</td>\n",
       "      <td>3.89</td>\n",
       "      <td>3.84</td>\n",
       "      <td>2.31</td>\n",
       "      <td>Small</td>\n",
       "      <td>Bad</td>\n",
       "    </tr>\n",
       "    <tr>\n",
       "      <th>3</th>\n",
       "      <td>4</td>\n",
       "      <td>0.29</td>\n",
       "      <td>Premium</td>\n",
       "      <td>I</td>\n",
       "      <td>VS2</td>\n",
       "      <td>62.4</td>\n",
       "      <td>58.0</td>\n",
       "      <td>334</td>\n",
       "      <td>4.20</td>\n",
       "      <td>4.23</td>\n",
       "      <td>2.63</td>\n",
       "      <td>Small</td>\n",
       "      <td>Normal</td>\n",
       "    </tr>\n",
       "    <tr>\n",
       "      <th>4</th>\n",
       "      <td>5</td>\n",
       "      <td>0.31</td>\n",
       "      <td>Good</td>\n",
       "      <td>J</td>\n",
       "      <td>SI2</td>\n",
       "      <td>63.3</td>\n",
       "      <td>58.0</td>\n",
       "      <td>335</td>\n",
       "      <td>4.34</td>\n",
       "      <td>4.35</td>\n",
       "      <td>2.75</td>\n",
       "      <td>Small</td>\n",
       "      <td>Bad</td>\n",
       "    </tr>\n",
       "    <tr>\n",
       "      <th>5</th>\n",
       "      <td>6</td>\n",
       "      <td>0.24</td>\n",
       "      <td>Very Good</td>\n",
       "      <td>J</td>\n",
       "      <td>VVS2</td>\n",
       "      <td>62.8</td>\n",
       "      <td>57.0</td>\n",
       "      <td>336</td>\n",
       "      <td>3.94</td>\n",
       "      <td>3.96</td>\n",
       "      <td>2.48</td>\n",
       "      <td>Small</td>\n",
       "      <td>Good</td>\n",
       "    </tr>\n",
       "    <tr>\n",
       "      <th>...</th>\n",
       "      <td>...</td>\n",
       "      <td>...</td>\n",
       "      <td>...</td>\n",
       "      <td>...</td>\n",
       "      <td>...</td>\n",
       "      <td>...</td>\n",
       "      <td>...</td>\n",
       "      <td>...</td>\n",
       "      <td>...</td>\n",
       "      <td>...</td>\n",
       "      <td>...</td>\n",
       "      <td>...</td>\n",
       "      <td>...</td>\n",
       "    </tr>\n",
       "    <tr>\n",
       "      <th>53935</th>\n",
       "      <td>53936</td>\n",
       "      <td>0.72</td>\n",
       "      <td>Ideal</td>\n",
       "      <td>D</td>\n",
       "      <td>SI1</td>\n",
       "      <td>60.8</td>\n",
       "      <td>57.0</td>\n",
       "      <td>2757</td>\n",
       "      <td>5.75</td>\n",
       "      <td>5.76</td>\n",
       "      <td>3.50</td>\n",
       "      <td>Big</td>\n",
       "      <td>Bad</td>\n",
       "    </tr>\n",
       "    <tr>\n",
       "      <th>53936</th>\n",
       "      <td>53937</td>\n",
       "      <td>0.72</td>\n",
       "      <td>Good</td>\n",
       "      <td>D</td>\n",
       "      <td>SI1</td>\n",
       "      <td>63.1</td>\n",
       "      <td>55.0</td>\n",
       "      <td>2757</td>\n",
       "      <td>5.69</td>\n",
       "      <td>5.75</td>\n",
       "      <td>3.61</td>\n",
       "      <td>Big</td>\n",
       "      <td>Bad</td>\n",
       "    </tr>\n",
       "    <tr>\n",
       "      <th>53937</th>\n",
       "      <td>53938</td>\n",
       "      <td>0.70</td>\n",
       "      <td>Very Good</td>\n",
       "      <td>D</td>\n",
       "      <td>SI1</td>\n",
       "      <td>62.8</td>\n",
       "      <td>60.0</td>\n",
       "      <td>2757</td>\n",
       "      <td>5.66</td>\n",
       "      <td>5.68</td>\n",
       "      <td>3.56</td>\n",
       "      <td>Big</td>\n",
       "      <td>Bad</td>\n",
       "    </tr>\n",
       "    <tr>\n",
       "      <th>53938</th>\n",
       "      <td>53939</td>\n",
       "      <td>0.86</td>\n",
       "      <td>Premium</td>\n",
       "      <td>H</td>\n",
       "      <td>SI2</td>\n",
       "      <td>61.0</td>\n",
       "      <td>58.0</td>\n",
       "      <td>2757</td>\n",
       "      <td>6.15</td>\n",
       "      <td>6.12</td>\n",
       "      <td>3.74</td>\n",
       "      <td>Big</td>\n",
       "      <td>Bad</td>\n",
       "    </tr>\n",
       "    <tr>\n",
       "      <th>53939</th>\n",
       "      <td>53940</td>\n",
       "      <td>0.75</td>\n",
       "      <td>Ideal</td>\n",
       "      <td>D</td>\n",
       "      <td>SI2</td>\n",
       "      <td>62.2</td>\n",
       "      <td>55.0</td>\n",
       "      <td>2757</td>\n",
       "      <td>5.83</td>\n",
       "      <td>5.87</td>\n",
       "      <td>3.64</td>\n",
       "      <td>Big</td>\n",
       "      <td>Bad</td>\n",
       "    </tr>\n",
       "  </tbody>\n",
       "</table>\n",
       "<p>50937 rows × 13 columns</p>\n",
       "</div>"
      ],
      "text/plain": [
       "       Unnamed: 0  carat        cut color clarity  depth  table  price     x  \\\n",
       "0               1   0.23      Ideal     E     SI2   61.5   55.0    326  3.95   \n",
       "1               2   0.21    Premium     E     SI1   59.8   61.0    326  3.89   \n",
       "3               4   0.29    Premium     I     VS2   62.4   58.0    334  4.20   \n",
       "4               5   0.31       Good     J     SI2   63.3   58.0    335  4.34   \n",
       "5               6   0.24  Very Good     J    VVS2   62.8   57.0    336  3.94   \n",
       "...           ...    ...        ...   ...     ...    ...    ...    ...   ...   \n",
       "53935       53936   0.72      Ideal     D     SI1   60.8   57.0   2757  5.75   \n",
       "53936       53937   0.72       Good     D     SI1   63.1   55.0   2757  5.69   \n",
       "53937       53938   0.70  Very Good     D     SI1   62.8   60.0   2757  5.66   \n",
       "53938       53939   0.86    Premium     H     SI2   61.0   58.0   2757  6.15   \n",
       "53939       53940   0.75      Ideal     D     SI2   62.2   55.0   2757  5.83   \n",
       "\n",
       "          y     z carat_cat clarity_cat  \n",
       "0      3.98  2.43     Small         Bad  \n",
       "1      3.84  2.31     Small         Bad  \n",
       "3      4.23  2.63     Small      Normal  \n",
       "4      4.35  2.75     Small         Bad  \n",
       "5      3.96  2.48     Small        Good  \n",
       "...     ...   ...       ...         ...  \n",
       "53935  5.76  3.50       Big         Bad  \n",
       "53936  5.75  3.61       Big         Bad  \n",
       "53937  5.68  3.56       Big         Bad  \n",
       "53938  6.12  3.74       Big         Bad  \n",
       "53939  5.87  3.64       Big         Bad  \n",
       "\n",
       "[50937 rows x 13 columns]"
      ]
     },
     "execution_count": 55,
     "metadata": {},
     "output_type": "execute_result"
    }
   ],
   "source": [
    "dfc['clarity_cat'] = dfc['clarity'].apply(lambda x: 'Bad' if x in ['I1','SI2','SI1'] else ('Normal' if x in ['VS2', 'VS1'] else 'Good')) \n",
    "dfc"
   ]
  },
  {
   "cell_type": "markdown",
   "id": "28c34e1a-f296-49eb-be77-5055d52a8592",
   "metadata": {},
   "source": [
    "Создадим таблицу, показывающую, какое количество бриллиантов в зависимости от степени чистоты являются большими или маленькими по своему весу в каратах."
   ]
  },
  {
   "cell_type": "code",
   "execution_count": 57,
   "id": "3352a851-7a08-478f-8432-2aeebb11d842",
   "metadata": {},
   "outputs": [
    {
     "data": {
      "text/html": [
       "<div>\n",
       "<style scoped>\n",
       "    .dataframe tbody tr th:only-of-type {\n",
       "        vertical-align: middle;\n",
       "    }\n",
       "\n",
       "    .dataframe tbody tr th {\n",
       "        vertical-align: top;\n",
       "    }\n",
       "\n",
       "    .dataframe thead th {\n",
       "        text-align: right;\n",
       "    }\n",
       "</style>\n",
       "<table border=\"1\" class=\"dataframe\">\n",
       "  <thead>\n",
       "    <tr style=\"text-align: right;\">\n",
       "      <th>clarity_cat</th>\n",
       "      <th>Bad</th>\n",
       "      <th>Normal</th>\n",
       "      <th>Good</th>\n",
       "    </tr>\n",
       "    <tr>\n",
       "      <th>carat_cat</th>\n",
       "      <th></th>\n",
       "      <th></th>\n",
       "      <th></th>\n",
       "    </tr>\n",
       "  </thead>\n",
       "  <tbody>\n",
       "    <tr>\n",
       "      <th>Small</th>\n",
       "      <td>6577</td>\n",
       "      <td>10238</td>\n",
       "      <td>7607</td>\n",
       "    </tr>\n",
       "    <tr>\n",
       "      <th>Big</th>\n",
       "      <td>14616</td>\n",
       "      <td>9285</td>\n",
       "      <td>2614</td>\n",
       "    </tr>\n",
       "  </tbody>\n",
       "</table>\n",
       "</div>"
      ],
      "text/plain": [
       "clarity_cat    Bad  Normal  Good\n",
       "carat_cat                       \n",
       "Small         6577   10238  7607\n",
       "Big          14616    9285  2614"
      ]
     },
     "execution_count": 57,
     "metadata": {},
     "output_type": "execute_result"
    }
   ],
   "source": [
    "pivot_table = dfc.groupby('carat_cat')['clarity_cat'].value_counts().unstack()\n",
    "pivot_table = pivot_table.reindex(columns = ['Bad', 'Normal', 'Good'])\n",
    "pivot_table = pivot_table.sort_index(ascending = False)\n",
    "pivot_table"
   ]
  },
  {
   "cell_type": "markdown",
   "id": "bfe353e7-f6b4-45aa-a1cf-3406effaaad8",
   "metadata": {},
   "source": [
    "Проверим нулевую гипотезу"
   ]
  },
  {
   "cell_type": "code",
   "execution_count": 59,
   "id": "58d7d9e6-8908-4489-8349-ee546297dec0",
   "metadata": {},
   "outputs": [
    {
     "data": {
      "text/plain": [
       "Chi2ContingencyResult(statistic=5458.215485752944, pvalue=0.0, dof=2, expected_freq=array([[10161.09009168,  9360.40021988,  4900.50968844],\n",
       "       [11031.90990832, 10162.59978012,  5320.49031156]]))"
      ]
     },
     "execution_count": 59,
     "metadata": {},
     "output_type": "execute_result"
    }
   ],
   "source": [
    "from scipy.stats import chi2_contingency\n",
    "result1 = chi2_contingency(pivot_table.values)\n",
    "result1"
   ]
  },
  {
   "cell_type": "markdown",
   "id": "2d7f0956-1437-4332-9d9f-5d82bed8d49a",
   "metadata": {},
   "source": [
    "Так как p-value < α при любом уровне значимости => **Нулевая гипотеза отвергается на любом уровне значимости.**"
   ]
  },
  {
   "cell_type": "markdown",
   "id": "b03ac46f-cd5c-4135-99a1-15bece620dd4",
   "metadata": {},
   "source": [
    "Значит, существует взаимосвязь между весом бриллианта в каратах и его чистотой. Если бриллиант имеет достаточно большой вес, то, скорее всего, показатели его чистоты будут невысокими. Наоборот, если же бриллиант обладает небольшим весом, то, скорее всего, он будет обладать более высокими показателями прозрачности."
   ]
  },
  {
   "cell_type": "markdown",
   "id": "a4eeabf4-e5b9-4468-82df-41d00b53d8f3",
   "metadata": {},
   "source": [
    "**Гипотеза для проверки с помощью двухвыборочного t-теста**"
   ]
  },
  {
   "cell_type": "markdown",
   "id": "871a3590-fe19-4ece-8183-f3f4853e5f9f",
   "metadata": {},
   "source": [
    "Обычно на фотографиях бриллиантов их длина и ширина кажется примерно одинаковой, поэтому мы хотим проверить гипотезу о равенстве средних значений длины и ширины бриллианта, при этом дисперсии этих показателей неравны между собой."
   ]
  },
  {
   "cell_type": "code",
   "execution_count": 64,
   "id": "b4e58f99-c988-4a73-a433-ecec7caa5df1",
   "metadata": {},
   "outputs": [
    {
     "name": "stdout",
     "output_type": "stream",
     "text": [
      "False\n"
     ]
    }
   ],
   "source": [
    "print(dfc['x'].var() == dfc['y'].var())"
   ]
  },
  {
   "cell_type": "markdown",
   "id": "db1e7224-7c57-4673-8e4f-f098ce23ec69",
   "metadata": {},
   "source": [
    "**Нулевая гипотеза $ H_0 $ :** математическое ожидание длины бриллианта равно математическому ожиданию ширины бриллианта."
   ]
  },
  {
   "cell_type": "markdown",
   "id": "9d65bdd3-9ff7-4f39-8502-15aa5b150e0e",
   "metadata": {},
   "source": [
    "**Альтернативная гипотеза $ H_1 $ :** математическое ожидание длины бриллианта не равно математическому ожиданию ширины бриллианта."
   ]
  },
  {
   "cell_type": "code",
   "execution_count": 67,
   "id": "9594e8fe-f4c9-49c7-ba48-3b73989f8655",
   "metadata": {},
   "outputs": [
    {
     "data": {
      "text/plain": [
       "TtestResult(statistic=-0.4783346467210453, pvalue=0.6324130669622323, df=101868.015396511)"
      ]
     },
     "execution_count": 67,
     "metadata": {},
     "output_type": "execute_result"
    }
   ],
   "source": [
    "from scipy import stats\n",
    "result3 = stats.ttest_ind(a=dfc['x'], \n",
    "                         b=dfc['y'], \n",
    "                         equal_var=False) \n",
    "result3"
   ]
  },
  {
   "cell_type": "markdown",
   "id": "73dba589-938c-4c4d-be75-505568df907a",
   "metadata": {},
   "source": [
    "Так как p-value > α при α = 1%, и α = 5%, и α = 10% => **Нулевая гипотеза принимается на данных уровнях значимости.**"
   ]
  },
  {
   "cell_type": "markdown",
   "id": "3b189613-fd38-4542-a736-4c85be3891eb",
   "metadata": {},
   "source": [
    "Значит, фотографии в Интернете похожи на реальность: в действительности бриллиант имеет в среднем практически одинаковые показатели длины и ширины."
   ]
  },
  {
   "cell_type": "markdown",
   "id": "a8da356b-5ccd-4c19-8fcf-973989ab8fe5",
   "metadata": {},
   "source": [
    "**Гипотеза для проверки с помощью одновыборочного t-теста**"
   ]
  },
  {
   "cell_type": "markdown",
   "id": "f4a3a109-f839-4721-9071-665ceeec470d",
   "metadata": {},
   "source": [
    "Опираясь на полученную при проверке предыдущей гипотезы информацию о том, что большая часть бриллиантов имеет круглую форму в верхней части (или, по крайне мере, правильную форму, с равными длиной и шириной), протестируем гипотезу о том, что математическое ожидание значения признака 'depth' (глубина алмаза) равняется идеальной глубине круглых бриллиантов. Мы нашли информацию, что для круглых бриллиантов идеальный диапазон значения для глубины попадает в интервал от 59 до 62,3. Для тестирования гипотезы найдем среднее интервала: (59 + 62,3) / 2 = 60,65."
   ]
  },
  {
   "cell_type": "markdown",
   "id": "7ef0a4a0-1036-4444-9578-bc73c5c0a400",
   "metadata": {},
   "source": [
    "**Нулевая гипотеза $ H_0 $ :** математическое ожидание значения глубины бриллианта равняется 60,65."
   ]
  },
  {
   "cell_type": "markdown",
   "id": "88a5bf8a-d446-4d91-9f70-41d5d6a3ff18",
   "metadata": {},
   "source": [
    "**Альтернативная гипотеза $ H_1 $ :** математическое ожидание значения глубины бриллианта не равняется 60,65."
   ]
  },
  {
   "cell_type": "code",
   "execution_count": 74,
   "id": "b2303681-ce46-4c47-aca2-93ca3b9444db",
   "metadata": {},
   "outputs": [
    {
     "data": {
      "text/plain": [
       "TtestResult(statistic=197.35935365766488, pvalue=0.0, df=50936)"
      ]
     },
     "execution_count": 74,
     "metadata": {},
     "output_type": "execute_result"
    }
   ],
   "source": [
    "from scipy import stats\n",
    "result2 = stats.ttest_1samp(a=dfc['depth'],                 \n",
    "                           popmean = 60.65,           \n",
    "                           alternative='two-sided')  \n",
    "result2"
   ]
  },
  {
   "cell_type": "markdown",
   "id": "d9713cf4-76a0-4102-9806-9743f70451ce",
   "metadata": {},
   "source": [
    "Так как p-value < α при любом уровне значимости => **Нулевая гипотеза отвергается на любом уровне значимости**. Значит, на самом деле, математическое ожидание значения признака 'depth' отличается от 60.65. То есть мы не можем утверждать, что круглые бриллианты с идеальной огранкой (куда относится и показатель глубины) настолько сильно распространены, чтобы мы могли делать предположение о равенстве математического ожидания глубины бриллиантов в генеральной совокупности значению, характерному для идеально ограненных круглых бриллиантов."
   ]
  },
  {
   "cell_type": "markdown",
   "id": "c91b5326-f4c6-472f-a37a-138bdaaa10c5",
   "metadata": {},
   "source": [
    "## KT 4"
   ]
  },
  {
   "cell_type": "code",
   "execution_count": 77,
   "id": "473b9c20-50b7-4137-a200-22bcb8bb0c3c",
   "metadata": {},
   "outputs": [
    {
     "data": {
      "image/png": "[encoded data removed]",
      "text/plain": [
       "<Figure size 900x700 with 2 Axes>"
      ]
     },
     "metadata": {},
     "output_type": "display_data"
    }
   ],
   "source": [
    "plt.figure(figsize=(9, 7))\n",
    "cor_t = sns.heatmap(dfc.iloc[:, 1:].corr(numeric_only=True), cmap='coolwarm', annot=True, fmt='0.3f')\n",
    "plt.title('Матрица корреляций', fontsize = 20, fontweight = 'bold')\n",
    "\n",
    "for i in cor_t.texts:\n",
    "    if float(i.get_text()) >= 0.2 or float(i.get_text()) <= -0.2:\n",
    "        i.set_text(i.get_text())\n",
    "    else:\n",
    "        i.set_text('')\n",
    "        \n",
    "plt.show()"
   ]
  },
  {
   "cell_type": "markdown",
   "id": "7c8a60b3-7d63-49f0-9d48-2b62bb64221b",
   "metadata": {},
   "source": [
    "При построении регрессии будем исполльзовать как целевую переменную цену бриллианта. В качестве регрессоров среди количесвтенных признаков используем только количество карат(carat). Признаки depth и table имеют слабую коррреляцию с ценой, поэтому их использовать не будем. А x, y и z, хоть и имеют весьма высокую корреляцию с целевой переменнной, также имеют весьма высокую корреляцию между собой и с количеством карат, что логично, поскольку бриллианты обычно симметричные и их вес напрямую зависит от их размера. Использование регрессоров, которые между собой коррелируют, приведет к проблемам в обучении модели."
   ]
  },
  {
   "cell_type": "markdown",
   "id": "4432dbbb-c935-4864-9d6a-a1ff0e793a1d",
   "metadata": {},
   "source": [
    "Из категориальных признаков возьмем cut, color и clarity. Очевидно они тоже должны влиять на цену бриллианта."
   ]
  },
  {
   "cell_type": "code",
   "execution_count": 80,
   "id": "9f30af7b-427f-465a-83aa-d826b5c27363",
   "metadata": {},
   "outputs": [
    {
     "data": {
      "text/html": [
       "<div>\n",
       "<style scoped>\n",
       "    .dataframe tbody tr th:only-of-type {\n",
       "        vertical-align: middle;\n",
       "    }\n",
       "\n",
       "    .dataframe tbody tr th {\n",
       "        vertical-align: top;\n",
       "    }\n",
       "\n",
       "    .dataframe thead th {\n",
       "        text-align: right;\n",
       "    }\n",
       "</style>\n",
       "<table border=\"1\" class=\"dataframe\">\n",
       "  <thead>\n",
       "    <tr style=\"text-align: right;\">\n",
       "      <th></th>\n",
       "      <th>carat</th>\n",
       "      <th>cut</th>\n",
       "      <th>color</th>\n",
       "      <th>clarity</th>\n",
       "    </tr>\n",
       "  </thead>\n",
       "  <tbody>\n",
       "    <tr>\n",
       "      <th>0</th>\n",
       "      <td>0.23</td>\n",
       "      <td>Ideal</td>\n",
       "      <td>E</td>\n",
       "      <td>SI2</td>\n",
       "    </tr>\n",
       "    <tr>\n",
       "      <th>1</th>\n",
       "      <td>0.21</td>\n",
       "      <td>Premium</td>\n",
       "      <td>E</td>\n",
       "      <td>SI1</td>\n",
       "    </tr>\n",
       "    <tr>\n",
       "      <th>3</th>\n",
       "      <td>0.29</td>\n",
       "      <td>Premium</td>\n",
       "      <td>I</td>\n",
       "      <td>VS2</td>\n",
       "    </tr>\n",
       "    <tr>\n",
       "      <th>4</th>\n",
       "      <td>0.31</td>\n",
       "      <td>Good</td>\n",
       "      <td>J</td>\n",
       "      <td>SI2</td>\n",
       "    </tr>\n",
       "    <tr>\n",
       "      <th>5</th>\n",
       "      <td>0.24</td>\n",
       "      <td>Very Good</td>\n",
       "      <td>J</td>\n",
       "      <td>VVS2</td>\n",
       "    </tr>\n",
       "    <tr>\n",
       "      <th>...</th>\n",
       "      <td>...</td>\n",
       "      <td>...</td>\n",
       "      <td>...</td>\n",
       "      <td>...</td>\n",
       "    </tr>\n",
       "    <tr>\n",
       "      <th>53935</th>\n",
       "      <td>0.72</td>\n",
       "      <td>Ideal</td>\n",
       "      <td>D</td>\n",
       "      <td>SI1</td>\n",
       "    </tr>\n",
       "    <tr>\n",
       "      <th>53936</th>\n",
       "      <td>0.72</td>\n",
       "      <td>Good</td>\n",
       "      <td>D</td>\n",
       "      <td>SI1</td>\n",
       "    </tr>\n",
       "    <tr>\n",
       "      <th>53937</th>\n",
       "      <td>0.70</td>\n",
       "      <td>Very Good</td>\n",
       "      <td>D</td>\n",
       "      <td>SI1</td>\n",
       "    </tr>\n",
       "    <tr>\n",
       "      <th>53938</th>\n",
       "      <td>0.86</td>\n",
       "      <td>Premium</td>\n",
       "      <td>H</td>\n",
       "      <td>SI2</td>\n",
       "    </tr>\n",
       "    <tr>\n",
       "      <th>53939</th>\n",
       "      <td>0.75</td>\n",
       "      <td>Ideal</td>\n",
       "      <td>D</td>\n",
       "      <td>SI2</td>\n",
       "    </tr>\n",
       "  </tbody>\n",
       "</table>\n",
       "<p>50937 rows × 4 columns</p>\n",
       "</div>"
      ],
      "text/plain": [
       "       carat        cut color clarity\n",
       "0       0.23      Ideal     E     SI2\n",
       "1       0.21    Premium     E     SI1\n",
       "3       0.29    Premium     I     VS2\n",
       "4       0.31       Good     J     SI2\n",
       "5       0.24  Very Good     J    VVS2\n",
       "...      ...        ...   ...     ...\n",
       "53935   0.72      Ideal     D     SI1\n",
       "53936   0.72       Good     D     SI1\n",
       "53937   0.70  Very Good     D     SI1\n",
       "53938   0.86    Premium     H     SI2\n",
       "53939   0.75      Ideal     D     SI2\n",
       "\n",
       "[50937 rows x 4 columns]"
      ]
     },
     "execution_count": 80,
     "metadata": {},
     "output_type": "execute_result"
    }
   ],
   "source": [
    "X = dfc[['carat', 'cut', 'color', 'clarity']]\n",
    "X"
   ]
  },
  {
   "cell_type": "markdown",
   "id": "2748bac7-0ca8-4beb-990a-0274584d28fb",
   "metadata": {},
   "source": [
    "Для построения регрессии на основе категорриальных признаков необходимо их предобработать. Будем использовать one-hot encoding."
   ]
  },
  {
   "cell_type": "code",
   "execution_count": 82,
   "id": "bb4084c2-69a8-4c67-89cc-7663379553e7",
   "metadata": {},
   "outputs": [],
   "source": [
    "X_dum = pd.get_dummies(X, drop_first=True, dtype=float)"
   ]
  },
  {
   "cell_type": "code",
   "execution_count": 83,
   "id": "b8538f5f-04ba-4e71-8afa-14821e3d1d9a",
   "metadata": {},
   "outputs": [
    {
     "data": {
      "text/html": [
       "<div>\n",
       "<style scoped>\n",
       "    .dataframe tbody tr th:only-of-type {\n",
       "        vertical-align: middle;\n",
       "    }\n",
       "\n",
       "    .dataframe tbody tr th {\n",
       "        vertical-align: top;\n",
       "    }\n",
       "\n",
       "    .dataframe thead th {\n",
       "        text-align: right;\n",
       "    }\n",
       "</style>\n",
       "<table border=\"1\" class=\"dataframe\">\n",
       "  <thead>\n",
       "    <tr style=\"text-align: right;\">\n",
       "      <th></th>\n",
       "      <th>carat</th>\n",
       "      <th>cut_Good</th>\n",
       "      <th>cut_Ideal</th>\n",
       "      <th>cut_Premium</th>\n",
       "      <th>cut_Very Good</th>\n",
       "      <th>color_E</th>\n",
       "      <th>color_F</th>\n",
       "      <th>color_G</th>\n",
       "      <th>color_H</th>\n",
       "      <th>color_I</th>\n",
       "      <th>color_J</th>\n",
       "      <th>clarity_IF</th>\n",
       "      <th>clarity_SI1</th>\n",
       "      <th>clarity_SI2</th>\n",
       "      <th>clarity_VS1</th>\n",
       "      <th>clarity_VS2</th>\n",
       "      <th>clarity_VVS1</th>\n",
       "      <th>clarity_VVS2</th>\n",
       "    </tr>\n",
       "  </thead>\n",
       "  <tbody>\n",
       "    <tr>\n",
       "      <th>0</th>\n",
       "      <td>0.23</td>\n",
       "      <td>0.0</td>\n",
       "      <td>1.0</td>\n",
       "      <td>0.0</td>\n",
       "      <td>0.0</td>\n",
       "      <td>1.0</td>\n",
       "      <td>0.0</td>\n",
       "      <td>0.0</td>\n",
       "      <td>0.0</td>\n",
       "      <td>0.0</td>\n",
       "      <td>0.0</td>\n",
       "      <td>0.0</td>\n",
       "      <td>0.0</td>\n",
       "      <td>1.0</td>\n",
       "      <td>0.0</td>\n",
       "      <td>0.0</td>\n",
       "      <td>0.0</td>\n",
       "      <td>0.0</td>\n",
       "    </tr>\n",
       "    <tr>\n",
       "      <th>1</th>\n",
       "      <td>0.21</td>\n",
       "      <td>0.0</td>\n",
       "      <td>0.0</td>\n",
       "      <td>1.0</td>\n",
       "      <td>0.0</td>\n",
       "      <td>1.0</td>\n",
       "      <td>0.0</td>\n",
       "      <td>0.0</td>\n",
       "      <td>0.0</td>\n",
       "      <td>0.0</td>\n",
       "      <td>0.0</td>\n",
       "      <td>0.0</td>\n",
       "      <td>1.0</td>\n",
       "      <td>0.0</td>\n",
       "      <td>0.0</td>\n",
       "      <td>0.0</td>\n",
       "      <td>0.0</td>\n",
       "      <td>0.0</td>\n",
       "    </tr>\n",
       "    <tr>\n",
       "      <th>3</th>\n",
       "      <td>0.29</td>\n",
       "      <td>0.0</td>\n",
       "      <td>0.0</td>\n",
       "      <td>1.0</td>\n",
       "      <td>0.0</td>\n",
       "      <td>0.0</td>\n",
       "      <td>0.0</td>\n",
       "      <td>0.0</td>\n",
       "      <td>0.0</td>\n",
       "      <td>1.0</td>\n",
       "      <td>0.0</td>\n",
       "      <td>0.0</td>\n",
       "      <td>0.0</td>\n",
       "      <td>0.0</td>\n",
       "      <td>0.0</td>\n",
       "      <td>1.0</td>\n",
       "      <td>0.0</td>\n",
       "      <td>0.0</td>\n",
       "    </tr>\n",
       "    <tr>\n",
       "      <th>4</th>\n",
       "      <td>0.31</td>\n",
       "      <td>1.0</td>\n",
       "      <td>0.0</td>\n",
       "      <td>0.0</td>\n",
       "      <td>0.0</td>\n",
       "      <td>0.0</td>\n",
       "      <td>0.0</td>\n",
       "      <td>0.0</td>\n",
       "      <td>0.0</td>\n",
       "      <td>0.0</td>\n",
       "      <td>1.0</td>\n",
       "      <td>0.0</td>\n",
       "      <td>0.0</td>\n",
       "      <td>1.0</td>\n",
       "      <td>0.0</td>\n",
       "      <td>0.0</td>\n",
       "      <td>0.0</td>\n",
       "      <td>0.0</td>\n",
       "    </tr>\n",
       "    <tr>\n",
       "      <th>5</th>\n",
       "      <td>0.24</td>\n",
       "      <td>0.0</td>\n",
       "      <td>0.0</td>\n",
       "      <td>0.0</td>\n",
       "      <td>1.0</td>\n",
       "      <td>0.0</td>\n",
       "      <td>0.0</td>\n",
       "      <td>0.0</td>\n",
       "      <td>0.0</td>\n",
       "      <td>0.0</td>\n",
       "      <td>1.0</td>\n",
       "      <td>0.0</td>\n",
       "      <td>0.0</td>\n",
       "      <td>0.0</td>\n",
       "      <td>0.0</td>\n",
       "      <td>0.0</td>\n",
       "      <td>0.0</td>\n",
       "      <td>1.0</td>\n",
       "    </tr>\n",
       "    <tr>\n",
       "      <th>...</th>\n",
       "      <td>...</td>\n",
       "      <td>...</td>\n",
       "      <td>...</td>\n",
       "      <td>...</td>\n",
       "      <td>...</td>\n",
       "      <td>...</td>\n",
       "      <td>...</td>\n",
       "      <td>...</td>\n",
       "      <td>...</td>\n",
       "      <td>...</td>\n",
       "      <td>...</td>\n",
       "      <td>...</td>\n",
       "      <td>...</td>\n",
       "      <td>...</td>\n",
       "      <td>...</td>\n",
       "      <td>...</td>\n",
       "      <td>...</td>\n",
       "      <td>...</td>\n",
       "    </tr>\n",
       "    <tr>\n",
       "      <th>53935</th>\n",
       "      <td>0.72</td>\n",
       "      <td>0.0</td>\n",
       "      <td>1.0</td>\n",
       "      <td>0.0</td>\n",
       "      <td>0.0</td>\n",
       "      <td>0.0</td>\n",
       "      <td>0.0</td>\n",
       "      <td>0.0</td>\n",
       "      <td>0.0</td>\n",
       "      <td>0.0</td>\n",
       "      <td>0.0</td>\n",
       "      <td>0.0</td>\n",
       "      <td>1.0</td>\n",
       "      <td>0.0</td>\n",
       "      <td>0.0</td>\n",
       "      <td>0.0</td>\n",
       "      <td>0.0</td>\n",
       "      <td>0.0</td>\n",
       "    </tr>\n",
       "    <tr>\n",
       "      <th>53936</th>\n",
       "      <td>0.72</td>\n",
       "      <td>1.0</td>\n",
       "      <td>0.0</td>\n",
       "      <td>0.0</td>\n",
       "      <td>0.0</td>\n",
       "      <td>0.0</td>\n",
       "      <td>0.0</td>\n",
       "      <td>0.0</td>\n",
       "      <td>0.0</td>\n",
       "      <td>0.0</td>\n",
       "      <td>0.0</td>\n",
       "      <td>0.0</td>\n",
       "      <td>1.0</td>\n",
       "      <td>0.0</td>\n",
       "      <td>0.0</td>\n",
       "      <td>0.0</td>\n",
       "      <td>0.0</td>\n",
       "      <td>0.0</td>\n",
       "    </tr>\n",
       "    <tr>\n",
       "      <th>53937</th>\n",
       "      <td>0.70</td>\n",
       "      <td>0.0</td>\n",
       "      <td>0.0</td>\n",
       "      <td>0.0</td>\n",
       "      <td>1.0</td>\n",
       "      <td>0.0</td>\n",
       "      <td>0.0</td>\n",
       "      <td>0.0</td>\n",
       "      <td>0.0</td>\n",
       "      <td>0.0</td>\n",
       "      <td>0.0</td>\n",
       "      <td>0.0</td>\n",
       "      <td>1.0</td>\n",
       "      <td>0.0</td>\n",
       "      <td>0.0</td>\n",
       "      <td>0.0</td>\n",
       "      <td>0.0</td>\n",
       "      <td>0.0</td>\n",
       "    </tr>\n",
       "    <tr>\n",
       "      <th>53938</th>\n",
       "      <td>0.86</td>\n",
       "      <td>0.0</td>\n",
       "      <td>0.0</td>\n",
       "      <td>1.0</td>\n",
       "      <td>0.0</td>\n",
       "      <td>0.0</td>\n",
       "      <td>0.0</td>\n",
       "      <td>0.0</td>\n",
       "      <td>1.0</td>\n",
       "      <td>0.0</td>\n",
       "      <td>0.0</td>\n",
       "      <td>0.0</td>\n",
       "      <td>0.0</td>\n",
       "      <td>1.0</td>\n",
       "      <td>0.0</td>\n",
       "      <td>0.0</td>\n",
       "      <td>0.0</td>\n",
       "      <td>0.0</td>\n",
       "    </tr>\n",
       "    <tr>\n",
       "      <th>53939</th>\n",
       "      <td>0.75</td>\n",
       "      <td>0.0</td>\n",
       "      <td>1.0</td>\n",
       "      <td>0.0</td>\n",
       "      <td>0.0</td>\n",
       "      <td>0.0</td>\n",
       "      <td>0.0</td>\n",
       "      <td>0.0</td>\n",
       "      <td>0.0</td>\n",
       "      <td>0.0</td>\n",
       "      <td>0.0</td>\n",
       "      <td>0.0</td>\n",
       "      <td>0.0</td>\n",
       "      <td>1.0</td>\n",
       "      <td>0.0</td>\n",
       "      <td>0.0</td>\n",
       "      <td>0.0</td>\n",
       "      <td>0.0</td>\n",
       "    </tr>\n",
       "  </tbody>\n",
       "</table>\n",
       "<p>50937 rows × 18 columns</p>\n",
       "</div>"
      ],
      "text/plain": [
       "       carat  cut_Good  cut_Ideal  cut_Premium  cut_Very Good  color_E  \\\n",
       "0       0.23       0.0        1.0          0.0            0.0      1.0   \n",
       "1       0.21       0.0        0.0          1.0            0.0      1.0   \n",
       "3       0.29       0.0        0.0          1.0            0.0      0.0   \n",
       "4       0.31       1.0        0.0          0.0            0.0      0.0   \n",
       "5       0.24       0.0        0.0          0.0            1.0      0.0   \n",
       "...      ...       ...        ...          ...            ...      ...   \n",
       "53935   0.72       0.0        1.0          0.0            0.0      0.0   \n",
       "53936   0.72       1.0        0.0          0.0            0.0      0.0   \n",
       "53937   0.70       0.0        0.0          0.0            1.0      0.0   \n",
       "53938   0.86       0.0        0.0          1.0            0.0      0.0   \n",
       "53939   0.75       0.0        1.0          0.0            0.0      0.0   \n",
       "\n",
       "       color_F  color_G  color_H  color_I  color_J  clarity_IF  clarity_SI1  \\\n",
       "0          0.0      0.0      0.0      0.0      0.0         0.0          0.0   \n",
       "1          0.0      0.0      0.0      0.0      0.0         0.0          1.0   \n",
       "3          0.0      0.0      0.0      1.0      0.0         0.0          0.0   \n",
       "4          0.0      0.0      0.0      0.0      1.0         0.0          0.0   \n",
       "5          0.0      0.0      0.0      0.0      1.0         0.0          0.0   \n",
       "...        ...      ...      ...      ...      ...         ...          ...   \n",
       "53935      0.0      0.0      0.0      0.0      0.0         0.0          1.0   \n",
       "53936      0.0      0.0      0.0      0.0      0.0         0.0          1.0   \n",
       "53937      0.0      0.0      0.0      0.0      0.0         0.0          1.0   \n",
       "53938      0.0      0.0      1.0      0.0      0.0         0.0          0.0   \n",
       "53939      0.0      0.0      0.0      0.0      0.0         0.0          0.0   \n",
       "\n",
       "       clarity_SI2  clarity_VS1  clarity_VS2  clarity_VVS1  clarity_VVS2  \n",
       "0              1.0          0.0          0.0           0.0           0.0  \n",
       "1              0.0          0.0          0.0           0.0           0.0  \n",
       "3              0.0          0.0          1.0           0.0           0.0  \n",
       "4              1.0          0.0          0.0           0.0           0.0  \n",
       "5              0.0          0.0          0.0           0.0           1.0  \n",
       "...            ...          ...          ...           ...           ...  \n",
       "53935          0.0          0.0          0.0           0.0           0.0  \n",
       "53936          0.0          0.0          0.0           0.0           0.0  \n",
       "53937          0.0          0.0          0.0           0.0           0.0  \n",
       "53938          1.0          0.0          0.0           0.0           0.0  \n",
       "53939          1.0          0.0          0.0           0.0           0.0  \n",
       "\n",
       "[50937 rows x 18 columns]"
      ]
     },
     "execution_count": 83,
     "metadata": {},
     "output_type": "execute_result"
    }
   ],
   "source": [
    "X_dum"
   ]
  },
  {
   "cell_type": "code",
   "execution_count": 84,
   "id": "de764710-947c-48a1-aec1-97ed01da2511",
   "metadata": {},
   "outputs": [],
   "source": [
    "Y = dfc['price']"
   ]
  },
  {
   "cell_type": "code",
   "execution_count": 85,
   "id": "e188d2d6-5113-4a3d-829c-464bee813c58",
   "metadata": {},
   "outputs": [
    {
     "data": {
      "text/plain": [
       "0         326\n",
       "1         326\n",
       "3         334\n",
       "4         335\n",
       "5         336\n",
       "         ... \n",
       "53935    2757\n",
       "53936    2757\n",
       "53937    2757\n",
       "53938    2757\n",
       "53939    2757\n",
       "Name: price, Length: 50937, dtype: int64"
      ]
     },
     "execution_count": 85,
     "metadata": {},
     "output_type": "execute_result"
    }
   ],
   "source": [
    "Y"
   ]
  },
  {
   "cell_type": "code",
   "execution_count": 86,
   "id": "a0ad4e22-ab6b-4b5e-8ab7-8f4f3a186fdd",
   "metadata": {},
   "outputs": [],
   "source": [
    "# Обучим модель\n",
    "import statsmodels.api as sm\n",
    "\n",
    "X_dum = sm.add_constant(X_dum)\n",
    "model = sm.OLS(Y, X_dum).fit()"
   ]
  },
  {
   "cell_type": "code",
   "execution_count": 87,
   "id": "6b4995a0-43ff-48ad-873c-ef61dd4b3209",
   "metadata": {},
   "outputs": [
    {
     "data": {
      "text/html": [
       "<table class=\"simpletable\">\n",
       "<caption>OLS Regression Results</caption>\n",
       "<tr>\n",
       "  <th>Dep. Variable:</th>          <td>price</td>      <th>  R-squared:         </th>  <td>   0.917</td>  \n",
       "</tr>\n",
       "<tr>\n",
       "  <th>Model:</th>                   <td>OLS</td>       <th>  Adj. R-squared:    </th>  <td>   0.917</td>  \n",
       "</tr>\n",
       "<tr>\n",
       "  <th>Method:</th>             <td>Least Squares</td>  <th>  F-statistic:       </th>  <td>3.133e+04</td> \n",
       "</tr>\n",
       "<tr>\n",
       "  <th>Date:</th>             <td>Wed, 12 Mar 2025</td> <th>  Prob (F-statistic):</th>   <td>  0.00</td>   \n",
       "</tr>\n",
       "<tr>\n",
       "  <th>Time:</th>                 <td>22:28:15</td>     <th>  Log-Likelihood:    </th> <td>-4.2959e+05</td>\n",
       "</tr>\n",
       "<tr>\n",
       "  <th>No. Observations:</th>      <td> 50937</td>      <th>  AIC:               </th>  <td>8.592e+05</td> \n",
       "</tr>\n",
       "<tr>\n",
       "  <th>Df Residuals:</th>          <td> 50918</td>      <th>  BIC:               </th>  <td>8.594e+05</td> \n",
       "</tr>\n",
       "<tr>\n",
       "  <th>Df Model:</th>              <td>    18</td>      <th>                     </th>      <td> </td>     \n",
       "</tr>\n",
       "<tr>\n",
       "  <th>Covariance Type:</th>      <td>nonrobust</td>    <th>                     </th>      <td> </td>     \n",
       "</tr>\n",
       "</table>\n",
       "<table class=\"simpletable\">\n",
       "<tr>\n",
       "        <td></td>           <th>coef</th>     <th>std err</th>      <th>t</th>      <th>P>|t|</th>  <th>[0.025</th>    <th>0.975]</th>  \n",
       "</tr>\n",
       "<tr>\n",
       "  <th>const</th>         <td>-6838.2420</td> <td>   55.561</td> <td> -123.077</td> <td> 0.000</td> <td>-6947.141</td> <td>-6729.343</td>\n",
       "</tr>\n",
       "<tr>\n",
       "  <th>carat</th>         <td> 9025.4113</td> <td>   12.394</td> <td>  728.210</td> <td> 0.000</td> <td> 9001.119</td> <td> 9049.704</td>\n",
       "</tr>\n",
       "<tr>\n",
       "  <th>cut_Good</th>      <td>  670.6311</td> <td>   37.003</td> <td>   18.124</td> <td> 0.000</td> <td>  598.105</td> <td>  743.157</td>\n",
       "</tr>\n",
       "<tr>\n",
       "  <th>cut_Ideal</th>     <td>  961.8514</td> <td>   33.702</td> <td>   28.540</td> <td> 0.000</td> <td>  895.794</td> <td> 1027.908</td>\n",
       "</tr>\n",
       "<tr>\n",
       "  <th>cut_Premium</th>   <td>  832.0351</td> <td>   33.993</td> <td>   24.477</td> <td> 0.000</td> <td>  765.409</td> <td>  898.661</td>\n",
       "</tr>\n",
       "<tr>\n",
       "  <th>cut_Very Good</th> <td>  815.3550</td> <td>   34.337</td> <td>   23.746</td> <td> 0.000</td> <td>  748.054</td> <td>  882.656</td>\n",
       "</tr>\n",
       "<tr>\n",
       "  <th>color_E</th>       <td> -221.9295</td> <td>   18.081</td> <td>  -12.274</td> <td> 0.000</td> <td> -257.369</td> <td> -186.490</td>\n",
       "</tr>\n",
       "<tr>\n",
       "  <th>color_F</th>       <td> -334.1973</td> <td>   18.277</td> <td>  -18.285</td> <td> 0.000</td> <td> -370.021</td> <td> -298.374</td>\n",
       "</tr>\n",
       "<tr>\n",
       "  <th>color_G</th>       <td> -528.7561</td> <td>   17.872</td> <td>  -29.586</td> <td> 0.000</td> <td> -563.786</td> <td> -493.727</td>\n",
       "</tr>\n",
       "<tr>\n",
       "  <th>color_H</th>       <td>-1008.6844</td> <td>   19.077</td> <td>  -52.874</td> <td> 0.000</td> <td>-1046.076</td> <td> -971.293</td>\n",
       "</tr>\n",
       "<tr>\n",
       "  <th>color_I</th>       <td>-1482.7118</td> <td>   21.493</td> <td>  -68.985</td> <td> 0.000</td> <td>-1524.839</td> <td>-1440.585</td>\n",
       "</tr>\n",
       "<tr>\n",
       "  <th>color_J</th>       <td>-2340.9340</td> <td>   26.846</td> <td>  -87.198</td> <td> 0.000</td> <td>-2393.553</td> <td>-2288.315</td>\n",
       "</tr>\n",
       "<tr>\n",
       "  <th>clarity_IF</th>    <td> 4878.6007</td> <td>   54.399</td> <td>   89.682</td> <td> 0.000</td> <td> 4771.978</td> <td> 4985.223</td>\n",
       "</tr>\n",
       "<tr>\n",
       "  <th>clarity_SI1</th>   <td> 2992.4497</td> <td>   47.786</td> <td>   62.621</td> <td> 0.000</td> <td> 2898.788</td> <td> 3086.112</td>\n",
       "</tr>\n",
       "<tr>\n",
       "  <th>clarity_SI2</th>   <td> 2052.7889</td> <td>   48.097</td> <td>   42.680</td> <td> 0.000</td> <td> 1958.517</td> <td> 2147.060</td>\n",
       "</tr>\n",
       "<tr>\n",
       "  <th>clarity_VS1</th>   <td> 3972.3689</td> <td>   48.597</td> <td>   81.740</td> <td> 0.000</td> <td> 3877.118</td> <td> 4067.620</td>\n",
       "</tr>\n",
       "<tr>\n",
       "  <th>clarity_VS2</th>   <td> 3643.8856</td> <td>   47.966</td> <td>   75.967</td> <td> 0.000</td> <td> 3549.871</td> <td> 3737.900</td>\n",
       "</tr>\n",
       "<tr>\n",
       "  <th>clarity_VVS1</th>  <td> 4531.5239</td> <td>   50.904</td> <td>   89.021</td> <td> 0.000</td> <td> 4431.752</td> <td> 4631.296</td>\n",
       "</tr>\n",
       "<tr>\n",
       "  <th>clarity_VVS2</th>  <td> 4419.7351</td> <td>   49.749</td> <td>   88.841</td> <td> 0.000</td> <td> 4322.227</td> <td> 4517.243</td>\n",
       "</tr>\n",
       "</table>\n",
       "<table class=\"simpletable\">\n",
       "<tr>\n",
       "  <th>Omnibus:</th>       <td>16290.973</td> <th>  Durbin-Watson:     </th> <td>   0.717</td> \n",
       "</tr>\n",
       "<tr>\n",
       "  <th>Prob(Omnibus):</th>  <td> 0.000</td>   <th>  Jarque-Bera (JB):  </th> <td>85446.169</td>\n",
       "</tr>\n",
       "<tr>\n",
       "  <th>Skew:</th>           <td> 1.454</td>   <th>  Prob(JB):          </th> <td>    0.00</td> \n",
       "</tr>\n",
       "<tr>\n",
       "  <th>Kurtosis:</th>       <td> 8.640</td>   <th>  Cond. No.          </th> <td>    40.7</td> \n",
       "</tr>\n",
       "</table><br/><br/>Notes:<br/>[1] Standard Errors assume that the covariance matrix of the errors is correctly specified."
      ],
      "text/latex": [
       "\\begin{center}\n",
       "\\begin{tabular}{lclc}\n",
       "\\toprule\n",
       "\\textbf{Dep. Variable:}    &      price       & \\textbf{  R-squared:         } &      0.917   \\\\\n",
       "\\textbf{Model:}            &       OLS        & \\textbf{  Adj. R-squared:    } &      0.917   \\\\\n",
       "\\textbf{Method:}           &  Least Squares   & \\textbf{  F-statistic:       } &  3.133e+04   \\\\\n",
       "\\textbf{Date:}             & Wed, 12 Mar 2025 & \\textbf{  Prob (F-statistic):} &      0.00    \\\\\n",
       "\\textbf{Time:}             &     22:28:15     & \\textbf{  Log-Likelihood:    } & -4.2959e+05  \\\\\n",
       "\\textbf{No. Observations:} &       50937      & \\textbf{  AIC:               } &  8.592e+05   \\\\\n",
       "\\textbf{Df Residuals:}     &       50918      & \\textbf{  BIC:               } &  8.594e+05   \\\\\n",
       "\\textbf{Df Model:}         &          18      & \\textbf{                     } &              \\\\\n",
       "\\textbf{Covariance Type:}  &    nonrobust     & \\textbf{                     } &              \\\\\n",
       "\\bottomrule\n",
       "\\end{tabular}\n",
       "\\begin{tabular}{lcccccc}\n",
       "                        & \\textbf{coef} & \\textbf{std err} & \\textbf{t} & \\textbf{P$> |$t$|$} & \\textbf{[0.025} & \\textbf{0.975]}  \\\\\n",
       "\\midrule\n",
       "\\textbf{const}          &   -6838.2420  &       55.561     &  -123.077  &         0.000        &    -6947.141    &    -6729.343     \\\\\n",
       "\\textbf{carat}          &    9025.4113  &       12.394     &   728.210  &         0.000        &     9001.119    &     9049.704     \\\\\n",
       "\\textbf{cut\\_Good}      &     670.6311  &       37.003     &    18.124  &         0.000        &      598.105    &      743.157     \\\\\n",
       "\\textbf{cut\\_Ideal}     &     961.8514  &       33.702     &    28.540  &         0.000        &      895.794    &     1027.908     \\\\\n",
       "\\textbf{cut\\_Premium}   &     832.0351  &       33.993     &    24.477  &         0.000        &      765.409    &      898.661     \\\\\n",
       "\\textbf{cut\\_Very Good} &     815.3550  &       34.337     &    23.746  &         0.000        &      748.054    &      882.656     \\\\\n",
       "\\textbf{color\\_E}       &    -221.9295  &       18.081     &   -12.274  &         0.000        &     -257.369    &     -186.490     \\\\\n",
       "\\textbf{color\\_F}       &    -334.1973  &       18.277     &   -18.285  &         0.000        &     -370.021    &     -298.374     \\\\\n",
       "\\textbf{color\\_G}       &    -528.7561  &       17.872     &   -29.586  &         0.000        &     -563.786    &     -493.727     \\\\\n",
       "\\textbf{color\\_H}       &   -1008.6844  &       19.077     &   -52.874  &         0.000        &    -1046.076    &     -971.293     \\\\\n",
       "\\textbf{color\\_I}       &   -1482.7118  &       21.493     &   -68.985  &         0.000        &    -1524.839    &    -1440.585     \\\\\n",
       "\\textbf{color\\_J}       &   -2340.9340  &       26.846     &   -87.198  &         0.000        &    -2393.553    &    -2288.315     \\\\\n",
       "\\textbf{clarity\\_IF}    &    4878.6007  &       54.399     &    89.682  &         0.000        &     4771.978    &     4985.223     \\\\\n",
       "\\textbf{clarity\\_SI1}   &    2992.4497  &       47.786     &    62.621  &         0.000        &     2898.788    &     3086.112     \\\\\n",
       "\\textbf{clarity\\_SI2}   &    2052.7889  &       48.097     &    42.680  &         0.000        &     1958.517    &     2147.060     \\\\\n",
       "\\textbf{clarity\\_VS1}   &    3972.3689  &       48.597     &    81.740  &         0.000        &     3877.118    &     4067.620     \\\\\n",
       "\\textbf{clarity\\_VS2}   &    3643.8856  &       47.966     &    75.967  &         0.000        &     3549.871    &     3737.900     \\\\\n",
       "\\textbf{clarity\\_VVS1}  &    4531.5239  &       50.904     &    89.021  &         0.000        &     4431.752    &     4631.296     \\\\\n",
       "\\textbf{clarity\\_VVS2}  &    4419.7351  &       49.749     &    88.841  &         0.000        &     4322.227    &     4517.243     \\\\\n",
       "\\bottomrule\n",
       "\\end{tabular}\n",
       "\\begin{tabular}{lclc}\n",
       "\\textbf{Omnibus:}       & 16290.973 & \\textbf{  Durbin-Watson:     } &     0.717  \\\\\n",
       "\\textbf{Prob(Omnibus):} &    0.000  & \\textbf{  Jarque-Bera (JB):  } & 85446.169  \\\\\n",
       "\\textbf{Skew:}          &    1.454  & \\textbf{  Prob(JB):          } &      0.00  \\\\\n",
       "\\textbf{Kurtosis:}      &    8.640  & \\textbf{  Cond. No.          } &      40.7  \\\\\n",
       "\\bottomrule\n",
       "\\end{tabular}\n",
       "%\\caption{OLS Regression Results}\n",
       "\\end{center}\n",
       "\n",
       "Notes: \\newline\n",
       " [1] Standard Errors assume that the covariance matrix of the errors is correctly specified."
      ],
      "text/plain": [
       "<class 'statsmodels.iolib.summary.Summary'>\n",
       "\"\"\"\n",
       "                            OLS Regression Results                            \n",
       "==============================================================================\n",
       "Dep. Variable:                  price   R-squared:                       0.917\n",
       "Model:                            OLS   Adj. R-squared:                  0.917\n",
       "Method:                 Least Squares   F-statistic:                 3.133e+04\n",
       "Date:                Wed, 12 Mar 2025   Prob (F-statistic):               0.00\n",
       "Time:                        22:28:15   Log-Likelihood:            -4.2959e+05\n",
       "No. Observations:               50937   AIC:                         8.592e+05\n",
       "Df Residuals:                   50918   BIC:                         8.594e+05\n",
       "Df Model:                          18                                         \n",
       "Covariance Type:            nonrobust                                         \n",
       "=================================================================================\n",
       "                    coef    std err          t      P>|t|      [0.025      0.975]\n",
       "---------------------------------------------------------------------------------\n",
       "const         -6838.2420     55.561   -123.077      0.000   -6947.141   -6729.343\n",
       "carat          9025.4113     12.394    728.210      0.000    9001.119    9049.704\n",
       "cut_Good        670.6311     37.003     18.124      0.000     598.105     743.157\n",
       "cut_Ideal       961.8514     33.702     28.540      0.000     895.794    1027.908\n",
       "cut_Premium     832.0351     33.993     24.477      0.000     765.409     898.661\n",
       "cut_Very Good   815.3550     34.337     23.746      0.000     748.054     882.656\n",
       "color_E        -221.9295     18.081    -12.274      0.000    -257.369    -186.490\n",
       "color_F        -334.1973     18.277    -18.285      0.000    -370.021    -298.374\n",
       "color_G        -528.7561     17.872    -29.586      0.000    -563.786    -493.727\n",
       "color_H       -1008.6844     19.077    -52.874      0.000   -1046.076    -971.293\n",
       "color_I       -1482.7118     21.493    -68.985      0.000   -1524.839   -1440.585\n",
       "color_J       -2340.9340     26.846    -87.198      0.000   -2393.553   -2288.315\n",
       "clarity_IF     4878.6007     54.399     89.682      0.000    4771.978    4985.223\n",
       "clarity_SI1    2992.4497     47.786     62.621      0.000    2898.788    3086.112\n",
       "clarity_SI2    2052.7889     48.097     42.680      0.000    1958.517    2147.060\n",
       "clarity_VS1    3972.3689     48.597     81.740      0.000    3877.118    4067.620\n",
       "clarity_VS2    3643.8856     47.966     75.967      0.000    3549.871    3737.900\n",
       "clarity_VVS1   4531.5239     50.904     89.021      0.000    4431.752    4631.296\n",
       "clarity_VVS2   4419.7351     49.749     88.841      0.000    4322.227    4517.243\n",
       "==============================================================================\n",
       "Omnibus:                    16290.973   Durbin-Watson:                   0.717\n",
       "Prob(Omnibus):                  0.000   Jarque-Bera (JB):            85446.169\n",
       "Skew:                           1.454   Prob(JB):                         0.00\n",
       "Kurtosis:                       8.640   Cond. No.                         40.7\n",
       "==============================================================================\n",
       "\n",
       "Notes:\n",
       "[1] Standard Errors assume that the covariance matrix of the errors is correctly specified.\n",
       "\"\"\""
      ]
     },
     "execution_count": 87,
     "metadata": {},
     "output_type": "execute_result"
    }
   ],
   "source": [
    "model.summary()"
   ]
  },
  {
   "cell_type": "code",
   "execution_count": 88,
   "id": "165e358c-c443-4934-8967-ab104882c58d",
   "metadata": {},
   "outputs": [
    {
     "data": {
      "text/plain": [
       "const           -6838.242049\n",
       "carat            9025.411321\n",
       "cut_Good          670.631110\n",
       "cut_Ideal         961.851368\n",
       "cut_Premium       832.035102\n",
       "cut_Very Good     815.355024\n",
       "color_E          -221.929498\n",
       "color_F          -334.197304\n",
       "color_G          -528.756147\n",
       "color_H         -1008.684422\n",
       "color_I         -1482.711756\n",
       "color_J         -2340.934018\n",
       "clarity_IF       4878.600688\n",
       "clarity_SI1      2992.449741\n",
       "clarity_SI2      2052.788869\n",
       "clarity_VS1      3972.368913\n",
       "clarity_VS2      3643.885609\n",
       "clarity_VVS1     4531.523929\n",
       "clarity_VVS2     4419.735052\n",
       "dtype: float64"
      ]
     },
     "execution_count": 88,
     "metadata": {},
     "output_type": "execute_result"
    }
   ],
   "source": [
    "# Полученные параметры модели\n",
    "model.params"
   ]
  },
  {
   "cell_type": "code",
   "execution_count": 89,
   "id": "86cfb582-3e2f-41f9-ac1a-4210b87c6dce",
   "metadata": {},
   "outputs": [
    {
     "data": {
      "text/plain": [
       "0.9171775589752179"
      ]
     },
     "execution_count": 89,
     "metadata": {},
     "output_type": "execute_result"
    }
   ],
   "source": [
    "# R^2 \n",
    "model.rsquared"
   ]
  },
  {
   "cell_type": "code",
   "execution_count": 90,
   "id": "4b2355ca-9834-4d32-8276-978d9af6d291",
   "metadata": {},
   "outputs": [
    {
     "data": {
      "text/plain": [
       "1238824.704854746"
      ]
     },
     "execution_count": 90,
     "metadata": {},
     "output_type": "execute_result"
    }
   ],
   "source": [
    "# Сделаем предсказания на нашей выборке и посчитаем среднеквадратичную ошибку\n",
    "pred = model.predict(X_dum)\n",
    "MSE = sum((Y - pred)**2)/len(Y)\n",
    "MSE"
   ]
  },
  {
   "cell_type": "code",
   "execution_count": 91,
   "id": "ce0d1028-9249-4c54-b21a-06473a72f601",
   "metadata": {},
   "outputs": [
    {
     "data": {
      "text/plain": [
       "795.0815345776621"
      ]
     },
     "execution_count": 91,
     "metadata": {},
     "output_type": "execute_result"
    }
   ],
   "source": [
    "# Посчитаем среднеабсолютную ошибку\n",
    "MAE = sum(abs(Y - pred))/len(Y)\n",
    "MAE"
   ]
  },
  {
   "cell_type": "markdown",
   "id": "6bf9e8b3-dfc6-4d62-80df-d5fd356e1b36",
   "metadata": {},
   "source": [
    "## Выводы: \n",
    "Судя по высокому значению метрики R2, построенная регрессионная модель является качественной (почти 92% дисперсии цены бриллианта объясняется влиянием рассмотренных признаков: количеством карат, качеством огранки, цветом бриллианта и его \"прозрачностью\"). При этом можно заметить, что в наибольшей степени цена бриллианта определяется количеством карат. Также можно заметить, что clarity влияет на цену бриллианта сильнее, чем cut и color. При этом стоит отметить, что отрицательные значения параметров перед закодированными признаками color отрицательные по той причине, что \"дропнут\" был цвет D, который является лучшим из представленных в датасете. Поэтому модель штрафует за цвет бриллианта, который хуже, чем D (то есть за любой другой цвет). В случае закодированных cut и clarity, наоборот, \"дропнута\" самая плохая категория.\n",
    "Метрики MSE и MAE не могут быть использованы в нашем случае для оценки качества модели, так как на основе данных метрик мы можем сравнивать модели, а не оценивать их в \"абсолютных значениях\". Также можем заметить, что MSE сильно больше MAE, что логично, так как целевая переменная (price) характеризуется очень высокими значениями признака, поэтому даже небольшое отклонение предсказания от правильного ответа в квадрате дает большую ошибку."
   ]
  },
  {
   "cell_type": "markdown",
   "id": "e9c9c2b2-0c21-4cba-8e59-d0e9edb62752",
   "metadata": {},
   "source": [
    "## Случайный лес"
   ]
  },
  {
   "cell_type": "code",
   "execution_count": 94,
   "id": "a1bdf722-caab-46f9-bcae-f3fa6c1e4159",
   "metadata": {},
   "outputs": [],
   "source": [
    "from sklearn.ensemble import RandomForestRegressor"
   ]
  },
  {
   "cell_type": "code",
   "execution_count": 95,
   "id": "15354ea0-1ffa-4bd2-ba8c-c4a8e3eeb5ad",
   "metadata": {},
   "outputs": [
    {
     "data": {
      "text/html": [
       "<style>#sk-container-id-1 {color: black;background-color: white;}#sk-container-id-1 pre{padding: 0;}#sk-container-id-1 div.sk-toggleable {background-color: white;}#sk-container-id-1 label.sk-toggleable__label {cursor: pointer;display: block;width: 100%;margin-bottom: 0;padding: 0.3em;box-sizing: border-box;text-align: center;}#sk-container-id-1 label.sk-toggleable__label-arrow:before {content: \"▸\";float: left;margin-right: 0.25em;color: #696969;}#sk-container-id-1 label.sk-toggleable__label-arrow:hover:before {color: black;}#sk-container-id-1 div.sk-estimator:hover label.sk-toggleable__label-arrow:before {color: black;}#sk-container-id-1 div.sk-toggleable__content {max-height: 0;max-width: 0;overflow: hidden;text-align: left;background-color: #f0f8ff;}#sk-container-id-1 div.sk-toggleable__content pre {margin: 0.2em;color: black;border-radius: 0.25em;background-color: #f0f8ff;}#sk-container-id-1 input.sk-toggleable__control:checked~div.sk-toggleable__content {max-height: 200px;max-width: 100%;overflow: auto;}#sk-container-id-1 input.sk-toggleable__control:checked~label.sk-toggleable__label-arrow:before {content: \"▾\";}#sk-container-id-1 div.sk-estimator input.sk-toggleable__control:checked~label.sk-toggleable__label {background-color: #d4ebff;}#sk-container-id-1 div.sk-label input.sk-toggleable__control:checked~label.sk-toggleable__label {background-color: #d4ebff;}#sk-container-id-1 input.sk-hidden--visually {border: 0;clip: rect(1px 1px 1px 1px);clip: rect(1px, 1px, 1px, 1px);height: 1px;margin: -1px;overflow: hidden;padding: 0;position: absolute;width: 1px;}#sk-container-id-1 div.sk-estimator {font-family: monospace;background-color: #f0f8ff;border: 1px dotted black;border-radius: 0.25em;box-sizing: border-box;margin-bottom: 0.5em;}#sk-container-id-1 div.sk-estimator:hover {background-color: #d4ebff;}#sk-container-id-1 div.sk-parallel-item::after {content: \"\";width: 100%;border-bottom: 1px solid gray;flex-grow: 1;}#sk-container-id-1 div.sk-label:hover label.sk-toggleable__label {background-color: #d4ebff;}#sk-container-id-1 div.sk-serial::before {content: \"\";position: absolute;border-left: 1px solid gray;box-sizing: border-box;top: 0;bottom: 0;left: 50%;z-index: 0;}#sk-container-id-1 div.sk-serial {display: flex;flex-direction: column;align-items: center;background-color: white;padding-right: 0.2em;padding-left: 0.2em;position: relative;}#sk-container-id-1 div.sk-item {position: relative;z-index: 1;}#sk-container-id-1 div.sk-parallel {display: flex;align-items: stretch;justify-content: center;background-color: white;position: relative;}#sk-container-id-1 div.sk-item::before, #sk-container-id-1 div.sk-parallel-item::before {content: \"\";position: absolute;border-left: 1px solid gray;box-sizing: border-box;top: 0;bottom: 0;left: 50%;z-index: -1;}#sk-container-id-1 div.sk-parallel-item {display: flex;flex-direction: column;z-index: 1;position: relative;background-color: white;}#sk-container-id-1 div.sk-parallel-item:first-child::after {align-self: flex-end;width: 50%;}#sk-container-id-1 div.sk-parallel-item:last-child::after {align-self: flex-start;width: 50%;}#sk-container-id-1 div.sk-parallel-item:only-child::after {width: 0;}#sk-container-id-1 div.sk-dashed-wrapped {border: 1px dashed gray;margin: 0 0.4em 0.5em 0.4em;box-sizing: border-box;padding-bottom: 0.4em;background-color: white;}#sk-container-id-1 div.sk-label label {font-family: monospace;font-weight: bold;display: inline-block;line-height: 1.2em;}#sk-container-id-1 div.sk-label-container {text-align: center;}#sk-container-id-1 div.sk-container {/* jupyter's `normalize.less` sets `[hidden] { display: none; }` but bootstrap.min.css set `[hidden] { display: none !important; }` so we also need the `!important` here to be able to override the default hidden behavior on the sphinx rendered scikit-learn.org. See: https://github.com/scikit-learn/scikit-learn/issues/21755 */display: inline-block !important;position: relative;}#sk-container-id-1 div.sk-text-repr-fallback {display: none;}</style><div id=\"sk-container-id-1\" class=\"sk-top-container\"><div class=\"sk-text-repr-fallback\"><pre>RandomForestRegressor(max_depth=5, random_state=42)</pre><b>In a Jupyter environment, please rerun this cell to show the HTML representation or trust the notebook. <br />On GitHub, the HTML representation is unable to render, please try loading this page with nbviewer.org.</b></div><div class=\"sk-container\" hidden><div class=\"sk-item\"><div class=\"sk-estimator sk-toggleable\"><input class=\"sk-toggleable__control sk-hidden--visually\" id=\"sk-estimator-id-1\" type=\"checkbox\" checked><label for=\"sk-estimator-id-1\" class=\"sk-toggleable__label sk-toggleable__label-arrow\">RandomForestRegressor</label><div class=\"sk-toggleable__content\"><pre>RandomForestRegressor(max_depth=5, random_state=42)</pre></div></div></div></div></div>"
      ],
      "text/plain": [
       "RandomForestRegressor(max_depth=5, random_state=42)"
      ]
     },
     "execution_count": 95,
     "metadata": {},
     "output_type": "execute_result"
    }
   ],
   "source": [
    "model1 = RandomForestRegressor(n_estimators=100, max_depth=5, random_state=42)\n",
    "model1.fit(X_dum, Y)"
   ]
  },
  {
   "cell_type": "code",
   "execution_count": 96,
   "id": "49e5fa4b-b67a-4495-a23c-2f56496fc9d7",
   "metadata": {},
   "outputs": [],
   "source": [
    "from sklearn.metrics import mean_squared_error, r2_score\n",
    "Y_pred = model1.predict(X_dum)"
   ]
  },
  {
   "cell_type": "code",
   "execution_count": 97,
   "id": "58aaf3cb-ba59-439f-9615-71c3cd276372",
   "metadata": {},
   "outputs": [],
   "source": [
    "from sklearn.metrics import r2_score, mean_squared_error, mean_absolute_error"
   ]
  },
  {
   "cell_type": "code",
   "execution_count": 98,
   "id": "33c9236b-96d1-48b9-be99-598e66b7173f",
   "metadata": {},
   "outputs": [
    {
     "data": {
      "text/plain": [
       "0.910040309636723"
      ]
     },
     "execution_count": 98,
     "metadata": {},
     "output_type": "execute_result"
    }
   ],
   "source": [
    "# Посчитаем R^2\n",
    "r2 = r2_score(Y, Y_pred)\n",
    "r2"
   ]
  },
  {
   "cell_type": "code",
   "execution_count": 99,
   "id": "f90dd87f-c66b-4d5b-bfd9-04c7a29b6c21",
   "metadata": {},
   "outputs": [
    {
     "data": {
      "text/plain": [
       "1345580.8049627924"
      ]
     },
     "execution_count": 99,
     "metadata": {},
     "output_type": "execute_result"
    }
   ],
   "source": [
    "# Посчитаем среднеквадратичную ошибку\n",
    "mse = mean_squared_error(Y, Y_pred)\n",
    "mse"
   ]
  },
  {
   "cell_type": "code",
   "execution_count": 100,
   "id": "dc27e5ed-e8d9-4711-9342-a58d30554b67",
   "metadata": {},
   "outputs": [
    {
     "data": {
      "text/plain": [
       "612.8724728233941"
      ]
     },
     "execution_count": 100,
     "metadata": {},
     "output_type": "execute_result"
    }
   ],
   "source": [
    "# Посчитаем среднеабсолютную ошибку\n",
    "mae = mean_absolute_error(Y, Y_pred)\n",
    "mae"
   ]
  },
  {
   "cell_type": "markdown",
   "id": "1628eb5b-c8e1-457f-8fda-8c5be85f543e",
   "metadata": {},
   "source": [
    "## Выводы:\n",
    "R^2 уменьшилось незначительно, теперь 91% дисперсии цены бриллианта объясняется влиянием рассмотренных признаков: количеством карат, качеством огранки, цветом бриллианта и его \"прозрачностью\". MAE уменьшилось, MSE увеличилось. Качество нелинейной модели приблизительно такое же, как и у линейной. Нельзя сделать вывод о том, что стало лучше, т.к. показатели R^2 и MSE выше у линейной модели, а MAE - у нелинейной. "
   ]
  },
  {
   "cell_type": "markdown",
   "id": "4dace35e-4a54-4985-9765-723c58e7a739",
   "metadata": {},
   "source": [
    "Главным преимуществом нелинейных моделей является то, что они описывают не только линейные, но и более сложные, нелинейные зависимости."
   ]
  },
  {
   "cell_type": "markdown",
   "id": "21dcf358-4831-4b87-b32f-8804c90025d4",
   "metadata": {},
   "source": [
    "## Тест Чоу"
   ]
  },
  {
   "cell_type": "markdown",
   "id": "61c58234-2092-4738-adcc-1a39ad53e720",
   "metadata": {},
   "source": [
    "**Нулевая гипотеза $ H_0 $ :** структурный сдвиг отсутствует"
   ]
  },
  {
   "cell_type": "markdown",
   "id": "ed156dc3-b2bd-4eef-bcf1-d11c347a1dcc",
   "metadata": {},
   "source": [
    "**Альтернативная гипотеза $ H_1 $ :** структурный сдвиг присутствует, модель неоднородна"
   ]
  },
  {
   "cell_type": "code",
   "execution_count": 113,
   "id": "2e2d7041-540a-445f-a2a2-de0661766142",
   "metadata": {},
   "outputs": [
    {
     "data": {
      "text/plain": [
       "0.0034122095980431144"
      ]
     },
     "execution_count": 113,
     "metadata": {},
     "output_type": "execute_result"
    }
   ],
   "source": [
    "from statsmodels.stats.diagnostic import acorr_ljungbox\n",
    "from sklearn.model_selection import train_test_split\n",
    "\n",
    "def chow_test(X1, Y1, X2, Y2):\n",
    "    X_concat = sm.add_constant(pd.concat([X1, X2], axis=0))\n",
    "    Y_concat = pd.concat([Y1, Y2])\n",
    "    \n",
    "    model_combined = sm.OLS(Y_concat, X_concat).fit()\n",
    "    model1 = sm.OLS(Y1, sm.add_constant(X1)).fit()\n",
    "    model2 = sm.OLS(Y2, sm.add_constant(X2)).fit()\n",
    "    \n",
    "    ssr_combined = model_combined.ssr\n",
    "    ssr1 = model1.ssr\n",
    "    ssr2 = model2.ssr\n",
    "    \n",
    "    df_combined = len(Y_concat) - X_concat.shape[1]\n",
    "    df1 = len(Y1) - X1.shape[1]\n",
    "    df2 = len(Y2) - X2.shape[1]\n",
    "    \n",
    "    F_statistic = ((ssr_combined - (ssr1 + ssr2)) / (df_combined - df1 - df2)) / ((ssr1 + ssr2) / (df1 + df2))\n",
    "    p_value = 1 - stats.f.cdf(F_statistic, df_combined - df1 - df2, df1 + df2)\n",
    "    return p_value\n",
    "\n",
    "X1, X2, Y1, Y2 = train_test_split(X_dum, Y, test_size=0.5, shuffle=True, random_state=0)\n",
    "p_value = chow_test(X1, Y1, X2, Y2)\n",
    "p_value"
   ]
  },
  {
   "cell_type": "markdown",
   "id": "8033c393-dc22-4dc3-8ad2-8ff74137b5b0",
   "metadata": {},
   "source": [
    "## Выводы:\n",
    "Поскольку значение p-value < 0,05, мы можем отвергнуть нулевую гипотезу, в данных есть структурный сдвиг. Это означает, что при делении выборки на части можно получить результат лучше. Однако есть вероятность, что это обусловлено достаточно большим объёмом данных и разделением бриллиантов на \"подкатегории\", что заметно на графике \"Зависимость цены бриллианта от количества карат\" (см. КТ2)"
   ]
  }
 ],
 "metadata": {
  "kernelspec": {
   "display_name": "Python [conda env:base] *",
   "language": "python",
   "name": "conda-base-py"
  },
  "language_info": {
   "codemirror_mode": {
    "name": "ipython",
    "version": 3
   },
   "file_extension": ".py",
   "mimetype": "text/x-python",
   "name": "python",
   "nbconvert_exporter": "python",
   "pygments_lexer": "ipython3",
   "version": "3.11.7"
  }
 },
 "nbformat": 4,
 "nbformat_minor": 5
}
